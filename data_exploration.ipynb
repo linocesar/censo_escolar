{
 "cells": [
  {
   "cell_type": "code",
   "id": "initial_id",
   "metadata": {
    "ExecuteTime": {
     "end_time": "2024-10-09T18:07:28.567398Z",
     "start_time": "2024-10-09T18:07:26.691864Z"
    }
   },
   "source": [
    "import pandas as pd\n",
    "import polars as pl\n",
    "import matplotlib.pyplot as plt\n",
    "from polars.testing.parametric import columns\n",
    "\n",
    "from censo_escolar import colunas"
   ],
   "outputs": [],
   "execution_count": 1
  },
  {
   "cell_type": "code",
   "id": "6c558075f1d764e5",
   "metadata": {
    "ExecuteTime": {
     "end_time": "2024-10-09T18:07:30.577030Z",
     "start_time": "2024-10-09T18:07:30.573451Z"
    }
   },
   "source": "filename = \"microdados_ed_basica_2007_2023_10.csv\"",
   "outputs": [],
   "execution_count": 2
  },
  {
   "cell_type": "code",
   "id": "982badd3bc0f84d6",
   "metadata": {
    "ExecuteTime": {
     "end_time": "2024-10-09T18:07:33.024179Z",
     "start_time": "2024-10-09T18:07:33.019710Z"
    }
   },
   "source": "print(colunas)",
   "outputs": [
    {
     "name": "stdout",
     "output_type": "stream",
     "text": [
      "['NU_ANO_CENSO', 'NO_REGIAO', 'NO_UF', 'SG_UF', 'NO_MUNICIPIO', 'TP_DEPENDENCIA', 'TP_LOCALIZACAO', 'IN_LABORATORIO_CIENCIAS', 'IN_LABORATORIO_INFORMATICA', 'IN_ACESSO_INTERNET_COMPUTADOR', 'IN_BANDA_LARGA', 'IN_PROF_PSICOLOGO', 'QT_PROF_PSICOLOGO', 'IN_PROF_PEDAGOGIA', 'QT_PROF_PEDAGOGIA', 'IN_PROF_SECRETARIO', 'QT_PROF_SECRETARIO', 'IN_PROF_MONITORES', 'QT_PROF_MONITORES', 'IN_PROF_ASSIST_SOCIAL', 'QT_PROF_ASSIST_SOCIAL', 'QT_MAT_BAS', 'QT_MAT_INF', 'QT_MAT_INF_CRE', 'QT_MAT_INF_PRE', 'QT_MAT_FUND', 'QT_MAT_FUND_AI', 'QT_MAT_FUND_AF', 'QT_MAT_MED', 'QT_MAT_PROF', 'QT_MAT_PROF_TEC', 'QT_MAT_EJA', 'QT_MAT_EJA_FUND', 'QT_MAT_EJA_MED', 'QT_MAT_ESP', 'QT_MAT_ESP_CC', 'QT_MAT_ESP_CE', 'QT_MAT_BAS_FEM', 'QT_MAT_BAS_MASC', 'QT_MAT_BAS_ND', 'QT_MAT_BAS_BRANCA', 'QT_MAT_BAS_PRETA', 'QT_MAT_BAS_PARDA', 'QT_MAT_BAS_AMARELA', 'QT_MAT_BAS_INDIGENA', 'QT_MAT_BAS_0_3', 'QT_MAT_BAS_4_5', 'QT_MAT_BAS_6_10', 'QT_MAT_BAS_11_14', 'QT_MAT_BAS_15_17', 'QT_MAT_BAS_18_MAIS', 'QT_MAT_BAS_D', 'QT_MAT_BAS_N', 'QT_MAT_BAS_EAD', 'QT_MAT_INF_INT', 'QT_MAT_INF_CRE_INT', 'QT_MAT_INF_PRE_INT', 'QT_MAT_FUND_INT', 'QT_MAT_FUND_AI_INT', 'QT_MAT_FUND_AF_INT', 'QT_MAT_MED_INT', 'QT_DOC_BAS', 'QT_DOC_INF', 'QT_DOC_INF_CRE', 'QT_DOC_INF_PRE', 'QT_DOC_FUND', 'QT_DOC_FUND_AI', 'QT_DOC_FUND_AF', 'QT_DOC_MED', 'QT_DOC_PROF', 'QT_DOC_PROF_TEC', 'QT_DOC_EJA', 'QT_DOC_EJA_FUND', 'QT_DOC_EJA_MED', 'QT_DOC_ESP', 'QT_DOC_ESP_CC', 'QT_DOC_ESP_CE', 'QT_TUR_BAS', 'QT_TUR_INF', 'QT_TUR_INF_CRE', 'QT_TUR_INF_PRE', 'QT_TUR_FUND', 'QT_TUR_FUND_AI', 'QT_TUR_FUND_AF', 'QT_TUR_MED', 'QT_TUR_PROF', 'QT_TUR_PROF_TEC', 'QT_TUR_EJA', 'QT_TUR_EJA_FUND', 'QT_TUR_EJA_MED', 'QT_TUR_ESP', 'QT_TUR_ESP_CC', 'QT_TUR_ESP_CE']\n"
     ]
    }
   ],
   "execution_count": 3
  },
  {
   "cell_type": "code",
   "id": "e378c0762a6cd483",
   "metadata": {
    "ExecuteTime": {
     "end_time": "2024-10-09T18:07:35.116904Z",
     "start_time": "2024-10-09T18:07:35.108826Z"
    }
   },
   "source": [
    "len(colunas)"
   ],
   "outputs": [
    {
     "data": {
      "text/plain": [
       "93"
      ]
     },
     "execution_count": 4,
     "metadata": {},
     "output_type": "execute_result"
    }
   ],
   "execution_count": 4
  },
  {
   "metadata": {
    "ExecuteTime": {
     "end_time": "2024-10-09T18:07:51.506209Z",
     "start_time": "2024-10-09T18:07:40.733544Z"
    }
   },
   "cell_type": "code",
   "source": "df = pd.read_csv(filename, sep=',', usecols=colunas, low_memory=True)",
   "id": "97b031d9146ecb8b",
   "outputs": [],
   "execution_count": 5
  },
  {
   "metadata": {
    "ExecuteTime": {
     "end_time": "2024-10-09T18:07:54.624561Z",
     "start_time": "2024-10-09T18:07:54.601741Z"
    }
   },
   "cell_type": "code",
   "source": "df.head()",
   "id": "f9ab9e804ca53e88",
   "outputs": [
    {
     "data": {
      "text/plain": [
       "   NU_ANO_CENSO NO_REGIAO     NO_UF SG_UF           NO_MUNICIPIO  \\\n",
       "0          2014     Norte  Rondônia    RO  Alta Floresta D'Oeste   \n",
       "1          2014     Norte  Rondônia    RO  Alta Floresta D'Oeste   \n",
       "2          2014     Norte  Rondônia    RO  Alta Floresta D'Oeste   \n",
       "3          2014     Norte  Rondônia    RO  Alta Floresta D'Oeste   \n",
       "4          2014     Norte  Rondônia    RO  Alta Floresta D'Oeste   \n",
       "\n",
       "   TP_DEPENDENCIA  TP_LOCALIZACAO  IN_LABORATORIO_CIENCIAS  \\\n",
       "0               2               2                      0.0   \n",
       "1               2               1                      0.0   \n",
       "2               3               2                      0.0   \n",
       "3               3               2                      0.0   \n",
       "4               3               2                      0.0   \n",
       "\n",
       "   IN_LABORATORIO_INFORMATICA  IN_ACESSO_INTERNET_COMPUTADOR  ...  \\\n",
       "0                         0.0                            0.0  ...   \n",
       "1                         1.0                            0.0  ...   \n",
       "2                         0.0                            0.0  ...   \n",
       "3                         0.0                            0.0  ...   \n",
       "4                         0.0                            0.0  ...   \n",
       "\n",
       "   QT_TUR_FUND_AF  QT_TUR_MED  QT_TUR_PROF  QT_TUR_PROF_TEC  QT_TUR_EJA  \\\n",
       "0             1.0         0.0          0.0              0.0         0.0   \n",
       "1             0.0         0.0          0.0              0.0        18.0   \n",
       "2             2.0         0.0          0.0              0.0         0.0   \n",
       "3             0.0         0.0          0.0              0.0         0.0   \n",
       "4             4.0         0.0          0.0              0.0         0.0   \n",
       "\n",
       "   QT_TUR_EJA_FUND  QT_TUR_EJA_MED  QT_TUR_ESP  QT_TUR_ESP_CC  QT_TUR_ESP_CE  \n",
       "0              0.0             0.0         0.0            0.0            0.0  \n",
       "1             10.0             8.0         2.0            2.0            0.0  \n",
       "2              0.0             0.0         0.0            0.0            0.0  \n",
       "3              0.0             0.0         0.0            0.0            0.0  \n",
       "4              0.0             0.0         1.0            1.0            0.0  \n",
       "\n",
       "[5 rows x 93 columns]"
      ],
      "text/html": [
       "<div>\n",
       "<style scoped>\n",
       "    .dataframe tbody tr th:only-of-type {\n",
       "        vertical-align: middle;\n",
       "    }\n",
       "\n",
       "    .dataframe tbody tr th {\n",
       "        vertical-align: top;\n",
       "    }\n",
       "\n",
       "    .dataframe thead th {\n",
       "        text-align: right;\n",
       "    }\n",
       "</style>\n",
       "<table border=\"1\" class=\"dataframe\">\n",
       "  <thead>\n",
       "    <tr style=\"text-align: right;\">\n",
       "      <th></th>\n",
       "      <th>NU_ANO_CENSO</th>\n",
       "      <th>NO_REGIAO</th>\n",
       "      <th>NO_UF</th>\n",
       "      <th>SG_UF</th>\n",
       "      <th>NO_MUNICIPIO</th>\n",
       "      <th>TP_DEPENDENCIA</th>\n",
       "      <th>TP_LOCALIZACAO</th>\n",
       "      <th>IN_LABORATORIO_CIENCIAS</th>\n",
       "      <th>IN_LABORATORIO_INFORMATICA</th>\n",
       "      <th>IN_ACESSO_INTERNET_COMPUTADOR</th>\n",
       "      <th>...</th>\n",
       "      <th>QT_TUR_FUND_AF</th>\n",
       "      <th>QT_TUR_MED</th>\n",
       "      <th>QT_TUR_PROF</th>\n",
       "      <th>QT_TUR_PROF_TEC</th>\n",
       "      <th>QT_TUR_EJA</th>\n",
       "      <th>QT_TUR_EJA_FUND</th>\n",
       "      <th>QT_TUR_EJA_MED</th>\n",
       "      <th>QT_TUR_ESP</th>\n",
       "      <th>QT_TUR_ESP_CC</th>\n",
       "      <th>QT_TUR_ESP_CE</th>\n",
       "    </tr>\n",
       "  </thead>\n",
       "  <tbody>\n",
       "    <tr>\n",
       "      <th>0</th>\n",
       "      <td>2014</td>\n",
       "      <td>Norte</td>\n",
       "      <td>Rondônia</td>\n",
       "      <td>RO</td>\n",
       "      <td>Alta Floresta D'Oeste</td>\n",
       "      <td>2</td>\n",
       "      <td>2</td>\n",
       "      <td>0.0</td>\n",
       "      <td>0.0</td>\n",
       "      <td>0.0</td>\n",
       "      <td>...</td>\n",
       "      <td>1.0</td>\n",
       "      <td>0.0</td>\n",
       "      <td>0.0</td>\n",
       "      <td>0.0</td>\n",
       "      <td>0.0</td>\n",
       "      <td>0.0</td>\n",
       "      <td>0.0</td>\n",
       "      <td>0.0</td>\n",
       "      <td>0.0</td>\n",
       "      <td>0.0</td>\n",
       "    </tr>\n",
       "    <tr>\n",
       "      <th>1</th>\n",
       "      <td>2014</td>\n",
       "      <td>Norte</td>\n",
       "      <td>Rondônia</td>\n",
       "      <td>RO</td>\n",
       "      <td>Alta Floresta D'Oeste</td>\n",
       "      <td>2</td>\n",
       "      <td>1</td>\n",
       "      <td>0.0</td>\n",
       "      <td>1.0</td>\n",
       "      <td>0.0</td>\n",
       "      <td>...</td>\n",
       "      <td>0.0</td>\n",
       "      <td>0.0</td>\n",
       "      <td>0.0</td>\n",
       "      <td>0.0</td>\n",
       "      <td>18.0</td>\n",
       "      <td>10.0</td>\n",
       "      <td>8.0</td>\n",
       "      <td>2.0</td>\n",
       "      <td>2.0</td>\n",
       "      <td>0.0</td>\n",
       "    </tr>\n",
       "    <tr>\n",
       "      <th>2</th>\n",
       "      <td>2014</td>\n",
       "      <td>Norte</td>\n",
       "      <td>Rondônia</td>\n",
       "      <td>RO</td>\n",
       "      <td>Alta Floresta D'Oeste</td>\n",
       "      <td>3</td>\n",
       "      <td>2</td>\n",
       "      <td>0.0</td>\n",
       "      <td>0.0</td>\n",
       "      <td>0.0</td>\n",
       "      <td>...</td>\n",
       "      <td>2.0</td>\n",
       "      <td>0.0</td>\n",
       "      <td>0.0</td>\n",
       "      <td>0.0</td>\n",
       "      <td>0.0</td>\n",
       "      <td>0.0</td>\n",
       "      <td>0.0</td>\n",
       "      <td>0.0</td>\n",
       "      <td>0.0</td>\n",
       "      <td>0.0</td>\n",
       "    </tr>\n",
       "    <tr>\n",
       "      <th>3</th>\n",
       "      <td>2014</td>\n",
       "      <td>Norte</td>\n",
       "      <td>Rondônia</td>\n",
       "      <td>RO</td>\n",
       "      <td>Alta Floresta D'Oeste</td>\n",
       "      <td>3</td>\n",
       "      <td>2</td>\n",
       "      <td>0.0</td>\n",
       "      <td>0.0</td>\n",
       "      <td>0.0</td>\n",
       "      <td>...</td>\n",
       "      <td>0.0</td>\n",
       "      <td>0.0</td>\n",
       "      <td>0.0</td>\n",
       "      <td>0.0</td>\n",
       "      <td>0.0</td>\n",
       "      <td>0.0</td>\n",
       "      <td>0.0</td>\n",
       "      <td>0.0</td>\n",
       "      <td>0.0</td>\n",
       "      <td>0.0</td>\n",
       "    </tr>\n",
       "    <tr>\n",
       "      <th>4</th>\n",
       "      <td>2014</td>\n",
       "      <td>Norte</td>\n",
       "      <td>Rondônia</td>\n",
       "      <td>RO</td>\n",
       "      <td>Alta Floresta D'Oeste</td>\n",
       "      <td>3</td>\n",
       "      <td>2</td>\n",
       "      <td>0.0</td>\n",
       "      <td>0.0</td>\n",
       "      <td>0.0</td>\n",
       "      <td>...</td>\n",
       "      <td>4.0</td>\n",
       "      <td>0.0</td>\n",
       "      <td>0.0</td>\n",
       "      <td>0.0</td>\n",
       "      <td>0.0</td>\n",
       "      <td>0.0</td>\n",
       "      <td>0.0</td>\n",
       "      <td>1.0</td>\n",
       "      <td>1.0</td>\n",
       "      <td>0.0</td>\n",
       "    </tr>\n",
       "  </tbody>\n",
       "</table>\n",
       "<p>5 rows × 93 columns</p>\n",
       "</div>"
      ]
     },
     "execution_count": 6,
     "metadata": {},
     "output_type": "execute_result"
    }
   ],
   "execution_count": 6
  },
  {
   "metadata": {
    "ExecuteTime": {
     "end_time": "2024-10-09T18:08:14.208812Z",
     "start_time": "2024-10-09T18:08:14.194214Z"
    }
   },
   "cell_type": "code",
   "source": "df.info()",
   "id": "d52256fa508e889e",
   "outputs": [
    {
     "name": "stdout",
     "output_type": "stream",
     "text": [
      "<class 'pandas.core.frame.DataFrame'>\n",
      "RangeIndex: 2307419 entries, 0 to 2307418\n",
      "Data columns (total 93 columns):\n",
      " #   Column                         Dtype   \n",
      "---  ------                         -----   \n",
      " 0   NU_ANO_CENSO                   int64   \n",
      " 1   NO_REGIAO                      category\n",
      " 2   NO_UF                          category\n",
      " 3   SG_UF                          category\n",
      " 4   NO_MUNICIPIO                   category\n",
      " 5   TP_DEPENDENCIA                 int64   \n",
      " 6   TP_LOCALIZACAO                 int64   \n",
      " 7   IN_LABORATORIO_CIENCIAS        float64 \n",
      " 8   IN_LABORATORIO_INFORMATICA     float64 \n",
      " 9   IN_ACESSO_INTERNET_COMPUTADOR  float64 \n",
      " 10  IN_BANDA_LARGA                 float64 \n",
      " 11  IN_PROF_PSICOLOGO              float64 \n",
      " 12  QT_PROF_PSICOLOGO              float64 \n",
      " 13  IN_PROF_PEDAGOGIA              float64 \n",
      " 14  QT_PROF_PEDAGOGIA              float64 \n",
      " 15  IN_PROF_SECRETARIO             float64 \n",
      " 16  QT_PROF_SECRETARIO             float64 \n",
      " 17  IN_PROF_MONITORES              float64 \n",
      " 18  QT_PROF_MONITORES              float64 \n",
      " 19  IN_PROF_ASSIST_SOCIAL          float64 \n",
      " 20  QT_PROF_ASSIST_SOCIAL          float64 \n",
      " 21  QT_MAT_BAS                     float64 \n",
      " 22  QT_MAT_INF                     float64 \n",
      " 23  QT_MAT_INF_CRE                 float64 \n",
      " 24  QT_MAT_INF_PRE                 float64 \n",
      " 25  QT_MAT_FUND                    float64 \n",
      " 26  QT_MAT_FUND_AI                 float64 \n",
      " 27  QT_MAT_FUND_AF                 float64 \n",
      " 28  QT_MAT_MED                     float64 \n",
      " 29  QT_MAT_PROF                    float64 \n",
      " 30  QT_MAT_PROF_TEC                float64 \n",
      " 31  QT_MAT_EJA                     float64 \n",
      " 32  QT_MAT_EJA_FUND                float64 \n",
      " 33  QT_MAT_EJA_MED                 float64 \n",
      " 34  QT_MAT_ESP                     float64 \n",
      " 35  QT_MAT_ESP_CC                  float64 \n",
      " 36  QT_MAT_ESP_CE                  float64 \n",
      " 37  QT_MAT_BAS_FEM                 float64 \n",
      " 38  QT_MAT_BAS_MASC                float64 \n",
      " 39  QT_MAT_BAS_ND                  float64 \n",
      " 40  QT_MAT_BAS_BRANCA              float64 \n",
      " 41  QT_MAT_BAS_PRETA               float64 \n",
      " 42  QT_MAT_BAS_PARDA               float64 \n",
      " 43  QT_MAT_BAS_AMARELA             float64 \n",
      " 44  QT_MAT_BAS_INDIGENA            float64 \n",
      " 45  QT_MAT_BAS_0_3                 float64 \n",
      " 46  QT_MAT_BAS_4_5                 float64 \n",
      " 47  QT_MAT_BAS_6_10                float64 \n",
      " 48  QT_MAT_BAS_11_14               float64 \n",
      " 49  QT_MAT_BAS_15_17               float64 \n",
      " 50  QT_MAT_BAS_18_MAIS             float64 \n",
      " 51  QT_MAT_BAS_D                   float64 \n",
      " 52  QT_MAT_BAS_N                   float64 \n",
      " 53  QT_MAT_BAS_EAD                 float64 \n",
      " 54  QT_MAT_INF_INT                 float64 \n",
      " 55  QT_MAT_INF_CRE_INT             float64 \n",
      " 56  QT_MAT_INF_PRE_INT             float64 \n",
      " 57  QT_MAT_FUND_INT                float64 \n",
      " 58  QT_MAT_FUND_AI_INT             float64 \n",
      " 59  QT_MAT_FUND_AF_INT             float64 \n",
      " 60  QT_MAT_MED_INT                 float64 \n",
      " 61  QT_DOC_BAS                     float64 \n",
      " 62  QT_DOC_INF                     float64 \n",
      " 63  QT_DOC_INF_CRE                 float64 \n",
      " 64  QT_DOC_INF_PRE                 float64 \n",
      " 65  QT_DOC_FUND                    float64 \n",
      " 66  QT_DOC_FUND_AI                 float64 \n",
      " 67  QT_DOC_FUND_AF                 float64 \n",
      " 68  QT_DOC_MED                     float64 \n",
      " 69  QT_DOC_PROF                    float64 \n",
      " 70  QT_DOC_PROF_TEC                float64 \n",
      " 71  QT_DOC_EJA                     float64 \n",
      " 72  QT_DOC_EJA_FUND                float64 \n",
      " 73  QT_DOC_EJA_MED                 float64 \n",
      " 74  QT_DOC_ESP                     float64 \n",
      " 75  QT_DOC_ESP_CC                  float64 \n",
      " 76  QT_DOC_ESP_CE                  float64 \n",
      " 77  QT_TUR_BAS                     float64 \n",
      " 78  QT_TUR_INF                     float64 \n",
      " 79  QT_TUR_INF_CRE                 float64 \n",
      " 80  QT_TUR_INF_PRE                 float64 \n",
      " 81  QT_TUR_FUND                    float64 \n",
      " 82  QT_TUR_FUND_AI                 float64 \n",
      " 83  QT_TUR_FUND_AF                 float64 \n",
      " 84  QT_TUR_MED                     float64 \n",
      " 85  QT_TUR_PROF                    float64 \n",
      " 86  QT_TUR_PROF_TEC                float64 \n",
      " 87  QT_TUR_EJA                     float64 \n",
      " 88  QT_TUR_EJA_FUND                float64 \n",
      " 89  QT_TUR_EJA_MED                 float64 \n",
      " 90  QT_TUR_ESP                     float64 \n",
      " 91  QT_TUR_ESP_CC                  float64 \n",
      " 92  QT_TUR_ESP_CE                  float64 \n",
      "dtypes: category(4), float64(86), int64(3)\n",
      "memory usage: 1.5 GB\n"
     ]
    }
   ],
   "execution_count": 9
  },
  {
   "metadata": {
    "ExecuteTime": {
     "end_time": "2024-10-09T18:08:07.280049Z",
     "start_time": "2024-10-09T18:08:06.883351Z"
    }
   },
   "cell_type": "code",
   "source": [
    "df['NO_REGIAO'] = df['NO_REGIAO'].astype('category')\n",
    "df['NO_UF'] = df['NO_UF'].astype('category')\n",
    "df['SG_UF'] = df['SG_UF'].astype('category')\n",
    "df['NO_MUNICIPIO'] = df['NO_MUNICIPIO'].astype('category')"
   ],
   "id": "74d53793eca5d9ec",
   "outputs": [],
   "execution_count": 8
  },
  {
   "metadata": {},
   "cell_type": "code",
   "outputs": [],
   "execution_count": null,
   "source": "",
   "id": "84e1a1dc64e24678"
  },
  {
   "metadata": {
    "ExecuteTime": {
     "end_time": "2024-10-09T18:58:24.170525Z",
     "start_time": "2024-10-09T18:58:24.054268Z"
    }
   },
   "cell_type": "code",
   "source": "df[['NU_ANO_CENSO', 'QT_MAT_BAS', 'NO_MUNICIPIO', 'SG_UF']].sort_values('NU_ANO_CENSO').head()",
   "id": "7a70c5c8a44e19b4",
   "outputs": [
    {
     "data": {
      "text/plain": [
       "    NU_ANO_CENSO  QT_MAT_BAS           NO_MUNICIPIO SG_UF\n",
       "25          2014       130.0  Alta Floresta D'Oeste    RO\n",
       "24          2014        31.0  Alta Floresta D'Oeste    RO\n",
       "23          2014         0.0  Alta Floresta D'Oeste    RO\n",
       "22          2014         0.0  Alta Floresta D'Oeste    RO\n",
       "21          2014       701.0  Alta Floresta D'Oeste    RO"
      ],
      "text/html": [
       "<div>\n",
       "<style scoped>\n",
       "    .dataframe tbody tr th:only-of-type {\n",
       "        vertical-align: middle;\n",
       "    }\n",
       "\n",
       "    .dataframe tbody tr th {\n",
       "        vertical-align: top;\n",
       "    }\n",
       "\n",
       "    .dataframe thead th {\n",
       "        text-align: right;\n",
       "    }\n",
       "</style>\n",
       "<table border=\"1\" class=\"dataframe\">\n",
       "  <thead>\n",
       "    <tr style=\"text-align: right;\">\n",
       "      <th></th>\n",
       "      <th>NU_ANO_CENSO</th>\n",
       "      <th>QT_MAT_BAS</th>\n",
       "      <th>NO_MUNICIPIO</th>\n",
       "      <th>SG_UF</th>\n",
       "    </tr>\n",
       "  </thead>\n",
       "  <tbody>\n",
       "    <tr>\n",
       "      <th>25</th>\n",
       "      <td>2014</td>\n",
       "      <td>130.0</td>\n",
       "      <td>Alta Floresta D'Oeste</td>\n",
       "      <td>RO</td>\n",
       "    </tr>\n",
       "    <tr>\n",
       "      <th>24</th>\n",
       "      <td>2014</td>\n",
       "      <td>31.0</td>\n",
       "      <td>Alta Floresta D'Oeste</td>\n",
       "      <td>RO</td>\n",
       "    </tr>\n",
       "    <tr>\n",
       "      <th>23</th>\n",
       "      <td>2014</td>\n",
       "      <td>0.0</td>\n",
       "      <td>Alta Floresta D'Oeste</td>\n",
       "      <td>RO</td>\n",
       "    </tr>\n",
       "    <tr>\n",
       "      <th>22</th>\n",
       "      <td>2014</td>\n",
       "      <td>0.0</td>\n",
       "      <td>Alta Floresta D'Oeste</td>\n",
       "      <td>RO</td>\n",
       "    </tr>\n",
       "    <tr>\n",
       "      <th>21</th>\n",
       "      <td>2014</td>\n",
       "      <td>701.0</td>\n",
       "      <td>Alta Floresta D'Oeste</td>\n",
       "      <td>RO</td>\n",
       "    </tr>\n",
       "  </tbody>\n",
       "</table>\n",
       "</div>"
      ]
     },
     "execution_count": 29,
     "metadata": {},
     "output_type": "execute_result"
    }
   ],
   "execution_count": 29
  },
  {
   "metadata": {},
   "cell_type": "code",
   "outputs": [],
   "execution_count": null,
   "source": "",
   "id": "cbabfdd573deafa"
  },
  {
   "metadata": {
    "ExecuteTime": {
     "end_time": "2024-10-09T19:00:34.641025Z",
     "start_time": "2024-10-09T19:00:34.512179Z"
    }
   },
   "cell_type": "code",
   "source": "df_ensino_infantil = df.groupby(['NU_ANO_CENSO', 'NO_REGIAO'], observed=True)['QT_MAT_INF'].agg(['sum'])",
   "id": "f38a5a48e02e512a",
   "outputs": [],
   "execution_count": 30
  },
  {
   "metadata": {
    "ExecuteTime": {
     "end_time": "2024-10-09T19:00:45.394254Z",
     "start_time": "2024-10-09T19:00:45.389889Z"
    }
   },
   "cell_type": "code",
   "source": "df_ensino_infantil.reset_index(inplace=True)",
   "id": "1d208db576cc911e",
   "outputs": [],
   "execution_count": 31
  },
  {
   "metadata": {
    "ExecuteTime": {
     "end_time": "2024-10-09T19:00:51.643387Z",
     "start_time": "2024-10-09T19:00:51.640046Z"
    }
   },
   "cell_type": "code",
   "source": "df_ensino_infantil.rename(columns={'sum': 'total'}, inplace=True)",
   "id": "a67a2df7165681cd",
   "outputs": [],
   "execution_count": 32
  },
  {
   "metadata": {
    "ExecuteTime": {
     "end_time": "2024-10-09T19:15:29.821163Z",
     "start_time": "2024-10-09T19:15:29.815137Z"
    }
   },
   "cell_type": "code",
   "source": "total_inf = df_ensino_infantil['total'].sum()",
   "id": "af33aab458447b2c",
   "outputs": [],
   "execution_count": 46
  },
  {
   "metadata": {
    "ExecuteTime": {
     "end_time": "2024-10-09T19:15:31.963234Z",
     "start_time": "2024-10-09T19:15:31.958771Z"
    }
   },
   "cell_type": "code",
   "source": "total_inf",
   "id": "7039ec8220eb505",
   "outputs": [
    {
     "data": {
      "text/plain": [
       "np.float64(85987009.0)"
      ]
     },
     "execution_count": 47,
     "metadata": {},
     "output_type": "execute_result"
    }
   ],
   "execution_count": 47
  },
  {
   "metadata": {
    "ExecuteTime": {
     "end_time": "2024-10-09T19:02:04.698686Z",
     "start_time": "2024-10-09T19:02:04.684095Z"
    }
   },
   "cell_type": "code",
   "source": [
    "import plotly.graph_objects as go\n",
    "import plotly.express as px"
   ],
   "id": "df663141cb4d34ab",
   "outputs": [],
   "execution_count": 34
  },
  {
   "metadata": {
    "ExecuteTime": {
     "end_time": "2024-10-09T19:15:49.518364Z",
     "start_time": "2024-10-09T19:15:49.507171Z"
    }
   },
   "cell_type": "code",
   "source": [
    "fig = go.Figure(go.Indicator(\n",
    "    #mode = \"number+delta\",\n",
    "    value = total_inf,\n",
    "    #delta = {\"reference\": 512, \"valueformat\": \".0f\"},\n",
    "    title = {\"text\": \"Users online\"},\n",
    "    domain = {'y': [0, 1], 'x': [0.25, 0.75]}))"
   ],
   "id": "aac2362c88b2fee2",
   "outputs": [],
   "execution_count": 48
  },
  {
   "metadata": {
    "ExecuteTime": {
     "end_time": "2024-10-09T19:16:32.261784Z",
     "start_time": "2024-10-09T19:16:32.195067Z"
    }
   },
   "cell_type": "code",
   "source": [
    "fig = px.bar(df_ensino_infantil,\n",
    "             x=df_ensino_infantil.NU_ANO_CENSO,\n",
    "             y=df_ensino_infantil.total,\n",
    "             text=df_ensino_infantil.total,\n",
    "             color=df_ensino_infantil.NO_REGIAO,\n",
    "             barmode='group',\n",
    "             labels={'total': 'Total de Alunos', 'NU_ANO_CENSO': 'Ano', 'NO_REGIAO': 'Região'},\n",
    "             title='Total de Alunos no Ensino Infantil por Ano e Região')\n",
    "fig.update_traces(texttemplate='%{text:.2s}', textposition='outside')\n",
    "fig.update_layout(uniformtext_minsize=8, uniformtext_mode='hide')\n",
    "# Exibir o gráfico\n",
    "fig.show()"
   ],
   "id": "16b98f2629fb815c",
   "outputs": [
    {
     "data": {
      "application/vnd.plotly.v1+json": {
       "data": [
        {
         "alignmentgroup": "True",
         "hovertemplate": "Região=Centro-Oeste<br>Ano=%{x}<br>Total de Alunos=%{text}<extra></extra>",
         "legendgroup": "Centro-Oeste",
         "marker": {
          "color": "#636efa",
          "pattern": {
           "shape": ""
          }
         },
         "name": "Centro-Oeste",
         "offsetgroup": "Centro-Oeste",
         "orientation": "v",
         "showlegend": true,
         "text": [
          538237.0,
          554050.0,
          587561.0,
          615501.0,
          639001.0,
          666098.0,
          664511.0,
          617245.0,
          683163.0,
          727978.0
         ],
         "textposition": "outside",
         "x": [
          2014,
          2015,
          2016,
          2017,
          2018,
          2019,
          2020,
          2021,
          2022,
          2023
         ],
         "xaxis": "x",
         "y": [
          538237.0,
          554050.0,
          587561.0,
          615501.0,
          639001.0,
          666098.0,
          664511.0,
          617245.0,
          683163.0,
          727978.0
         ],
         "yaxis": "y",
         "type": "bar",
         "texttemplate": "%{text:.2s}"
        },
        {
         "alignmentgroup": "True",
         "hovertemplate": "Região=Nordeste<br>Ano=%{x}<br>Total de Alunos=%{text}<extra></extra>",
         "legendgroup": "Nordeste",
         "marker": {
          "color": "#EF553B",
          "pattern": {
           "shape": ""
          }
         },
         "name": "Nordeste",
         "offsetgroup": "Nordeste",
         "orientation": "v",
         "showlegend": true,
         "text": [
          2173987.0,
          2151831.0,
          2196860.0,
          2260907.0,
          2295994.0,
          2349305.0,
          2284772.0,
          2186690.0,
          2381583.0,
          2517501.0
         ],
         "textposition": "outside",
         "x": [
          2014,
          2015,
          2016,
          2017,
          2018,
          2019,
          2020,
          2021,
          2022,
          2023
         ],
         "xaxis": "x",
         "y": [
          2173987.0,
          2151831.0,
          2196860.0,
          2260907.0,
          2295994.0,
          2349305.0,
          2284772.0,
          2186690.0,
          2381583.0,
          2517501.0
         ],
         "yaxis": "y",
         "type": "bar",
         "texttemplate": "%{text:.2s}"
        },
        {
         "alignmentgroup": "True",
         "hovertemplate": "Região=Norte<br>Ano=%{x}<br>Total de Alunos=%{text}<extra></extra>",
         "legendgroup": "Norte",
         "marker": {
          "color": "#00cc96",
          "pattern": {
           "shape": ""
          }
         },
         "name": "Norte",
         "offsetgroup": "Norte",
         "orientation": "v",
         "showlegend": true,
         "text": [
          622560.0,
          620990.0,
          634123.0,
          653615.0,
          674137.0,
          690631.0,
          689990.0,
          667415.0,
          719675.0,
          777419.0
         ],
         "textposition": "outside",
         "x": [
          2014,
          2015,
          2016,
          2017,
          2018,
          2019,
          2020,
          2021,
          2022,
          2023
         ],
         "xaxis": "x",
         "y": [
          622560.0,
          620990.0,
          634123.0,
          653615.0,
          674137.0,
          690631.0,
          689990.0,
          667415.0,
          719675.0,
          777419.0
         ],
         "yaxis": "y",
         "type": "bar",
         "texttemplate": "%{text:.2s}"
        },
        {
         "alignmentgroup": "True",
         "hovertemplate": "Região=Sudeste<br>Ano=%{x}<br>Total de Alunos=%{text}<extra></extra>",
         "legendgroup": "Sudeste",
         "marker": {
          "color": "#ab63fa",
          "pattern": {
           "shape": ""
          }
         },
         "name": "Sudeste",
         "offsetgroup": "Sudeste",
         "orientation": "v",
         "showlegend": true,
         "text": [
          3466184.0,
          3529640.0,
          3666421.0,
          3735678.0,
          3836183.0,
          3919235.0,
          3858906.0,
          3584858.0,
          3867832.0,
          3999019.0
         ],
         "textposition": "outside",
         "x": [
          2014,
          2015,
          2016,
          2017,
          2018,
          2019,
          2020,
          2021,
          2022,
          2023
         ],
         "xaxis": "x",
         "y": [
          3466184.0,
          3529640.0,
          3666421.0,
          3735678.0,
          3836183.0,
          3919235.0,
          3858906.0,
          3584858.0,
          3867832.0,
          3999019.0
         ],
         "yaxis": "y",
         "type": "bar",
         "texttemplate": "%{text:.2s}"
        },
        {
         "alignmentgroup": "True",
         "hovertemplate": "Região=Sul<br>Ano=%{x}<br>Total de Alunos=%{text}<extra></extra>",
         "legendgroup": "Sul",
         "marker": {
          "color": "#FFA15A",
          "pattern": {
           "shape": ""
          }
         },
         "name": "Sul",
         "offsetgroup": "Sul",
         "orientation": "v",
         "showlegend": true,
         "text": [
          1068901.0,
          1115719.0,
          1194139.0,
          1243030.0,
          1299869.0,
          1347509.0,
          1331616.0,
          1263191.0,
          1376511.0,
          1439238.0
         ],
         "textposition": "outside",
         "x": [
          2014,
          2015,
          2016,
          2017,
          2018,
          2019,
          2020,
          2021,
          2022,
          2023
         ],
         "xaxis": "x",
         "y": [
          1068901.0,
          1115719.0,
          1194139.0,
          1243030.0,
          1299869.0,
          1347509.0,
          1331616.0,
          1263191.0,
          1376511.0,
          1439238.0
         ],
         "yaxis": "y",
         "type": "bar",
         "texttemplate": "%{text:.2s}"
        }
       ],
       "layout": {
        "template": {
         "data": {
          "histogram2dcontour": [
           {
            "type": "histogram2dcontour",
            "colorbar": {
             "outlinewidth": 0,
             "ticks": ""
            },
            "colorscale": [
             [
              0.0,
              "#0d0887"
             ],
             [
              0.1111111111111111,
              "#46039f"
             ],
             [
              0.2222222222222222,
              "#7201a8"
             ],
             [
              0.3333333333333333,
              "#9c179e"
             ],
             [
              0.4444444444444444,
              "#bd3786"
             ],
             [
              0.5555555555555556,
              "#d8576b"
             ],
             [
              0.6666666666666666,
              "#ed7953"
             ],
             [
              0.7777777777777778,
              "#fb9f3a"
             ],
             [
              0.8888888888888888,
              "#fdca26"
             ],
             [
              1.0,
              "#f0f921"
             ]
            ]
           }
          ],
          "choropleth": [
           {
            "type": "choropleth",
            "colorbar": {
             "outlinewidth": 0,
             "ticks": ""
            }
           }
          ],
          "histogram2d": [
           {
            "type": "histogram2d",
            "colorbar": {
             "outlinewidth": 0,
             "ticks": ""
            },
            "colorscale": [
             [
              0.0,
              "#0d0887"
             ],
             [
              0.1111111111111111,
              "#46039f"
             ],
             [
              0.2222222222222222,
              "#7201a8"
             ],
             [
              0.3333333333333333,
              "#9c179e"
             ],
             [
              0.4444444444444444,
              "#bd3786"
             ],
             [
              0.5555555555555556,
              "#d8576b"
             ],
             [
              0.6666666666666666,
              "#ed7953"
             ],
             [
              0.7777777777777778,
              "#fb9f3a"
             ],
             [
              0.8888888888888888,
              "#fdca26"
             ],
             [
              1.0,
              "#f0f921"
             ]
            ]
           }
          ],
          "heatmap": [
           {
            "type": "heatmap",
            "colorbar": {
             "outlinewidth": 0,
             "ticks": ""
            },
            "colorscale": [
             [
              0.0,
              "#0d0887"
             ],
             [
              0.1111111111111111,
              "#46039f"
             ],
             [
              0.2222222222222222,
              "#7201a8"
             ],
             [
              0.3333333333333333,
              "#9c179e"
             ],
             [
              0.4444444444444444,
              "#bd3786"
             ],
             [
              0.5555555555555556,
              "#d8576b"
             ],
             [
              0.6666666666666666,
              "#ed7953"
             ],
             [
              0.7777777777777778,
              "#fb9f3a"
             ],
             [
              0.8888888888888888,
              "#fdca26"
             ],
             [
              1.0,
              "#f0f921"
             ]
            ]
           }
          ],
          "heatmapgl": [
           {
            "type": "heatmapgl",
            "colorbar": {
             "outlinewidth": 0,
             "ticks": ""
            },
            "colorscale": [
             [
              0.0,
              "#0d0887"
             ],
             [
              0.1111111111111111,
              "#46039f"
             ],
             [
              0.2222222222222222,
              "#7201a8"
             ],
             [
              0.3333333333333333,
              "#9c179e"
             ],
             [
              0.4444444444444444,
              "#bd3786"
             ],
             [
              0.5555555555555556,
              "#d8576b"
             ],
             [
              0.6666666666666666,
              "#ed7953"
             ],
             [
              0.7777777777777778,
              "#fb9f3a"
             ],
             [
              0.8888888888888888,
              "#fdca26"
             ],
             [
              1.0,
              "#f0f921"
             ]
            ]
           }
          ],
          "contourcarpet": [
           {
            "type": "contourcarpet",
            "colorbar": {
             "outlinewidth": 0,
             "ticks": ""
            }
           }
          ],
          "contour": [
           {
            "type": "contour",
            "colorbar": {
             "outlinewidth": 0,
             "ticks": ""
            },
            "colorscale": [
             [
              0.0,
              "#0d0887"
             ],
             [
              0.1111111111111111,
              "#46039f"
             ],
             [
              0.2222222222222222,
              "#7201a8"
             ],
             [
              0.3333333333333333,
              "#9c179e"
             ],
             [
              0.4444444444444444,
              "#bd3786"
             ],
             [
              0.5555555555555556,
              "#d8576b"
             ],
             [
              0.6666666666666666,
              "#ed7953"
             ],
             [
              0.7777777777777778,
              "#fb9f3a"
             ],
             [
              0.8888888888888888,
              "#fdca26"
             ],
             [
              1.0,
              "#f0f921"
             ]
            ]
           }
          ],
          "surface": [
           {
            "type": "surface",
            "colorbar": {
             "outlinewidth": 0,
             "ticks": ""
            },
            "colorscale": [
             [
              0.0,
              "#0d0887"
             ],
             [
              0.1111111111111111,
              "#46039f"
             ],
             [
              0.2222222222222222,
              "#7201a8"
             ],
             [
              0.3333333333333333,
              "#9c179e"
             ],
             [
              0.4444444444444444,
              "#bd3786"
             ],
             [
              0.5555555555555556,
              "#d8576b"
             ],
             [
              0.6666666666666666,
              "#ed7953"
             ],
             [
              0.7777777777777778,
              "#fb9f3a"
             ],
             [
              0.8888888888888888,
              "#fdca26"
             ],
             [
              1.0,
              "#f0f921"
             ]
            ]
           }
          ],
          "mesh3d": [
           {
            "type": "mesh3d",
            "colorbar": {
             "outlinewidth": 0,
             "ticks": ""
            }
           }
          ],
          "scatter": [
           {
            "fillpattern": {
             "fillmode": "overlay",
             "size": 10,
             "solidity": 0.2
            },
            "type": "scatter"
           }
          ],
          "parcoords": [
           {
            "type": "parcoords",
            "line": {
             "colorbar": {
              "outlinewidth": 0,
              "ticks": ""
             }
            }
           }
          ],
          "scatterpolargl": [
           {
            "type": "scatterpolargl",
            "marker": {
             "colorbar": {
              "outlinewidth": 0,
              "ticks": ""
             }
            }
           }
          ],
          "bar": [
           {
            "error_x": {
             "color": "#2a3f5f"
            },
            "error_y": {
             "color": "#2a3f5f"
            },
            "marker": {
             "line": {
              "color": "#E5ECF6",
              "width": 0.5
             },
             "pattern": {
              "fillmode": "overlay",
              "size": 10,
              "solidity": 0.2
             }
            },
            "type": "bar"
           }
          ],
          "scattergeo": [
           {
            "type": "scattergeo",
            "marker": {
             "colorbar": {
              "outlinewidth": 0,
              "ticks": ""
             }
            }
           }
          ],
          "scatterpolar": [
           {
            "type": "scatterpolar",
            "marker": {
             "colorbar": {
              "outlinewidth": 0,
              "ticks": ""
             }
            }
           }
          ],
          "histogram": [
           {
            "marker": {
             "pattern": {
              "fillmode": "overlay",
              "size": 10,
              "solidity": 0.2
             }
            },
            "type": "histogram"
           }
          ],
          "scattergl": [
           {
            "type": "scattergl",
            "marker": {
             "colorbar": {
              "outlinewidth": 0,
              "ticks": ""
             }
            }
           }
          ],
          "scatter3d": [
           {
            "type": "scatter3d",
            "line": {
             "colorbar": {
              "outlinewidth": 0,
              "ticks": ""
             }
            },
            "marker": {
             "colorbar": {
              "outlinewidth": 0,
              "ticks": ""
             }
            }
           }
          ],
          "scattermapbox": [
           {
            "type": "scattermapbox",
            "marker": {
             "colorbar": {
              "outlinewidth": 0,
              "ticks": ""
             }
            }
           }
          ],
          "scatterternary": [
           {
            "type": "scatterternary",
            "marker": {
             "colorbar": {
              "outlinewidth": 0,
              "ticks": ""
             }
            }
           }
          ],
          "scattercarpet": [
           {
            "type": "scattercarpet",
            "marker": {
             "colorbar": {
              "outlinewidth": 0,
              "ticks": ""
             }
            }
           }
          ],
          "carpet": [
           {
            "aaxis": {
             "endlinecolor": "#2a3f5f",
             "gridcolor": "white",
             "linecolor": "white",
             "minorgridcolor": "white",
             "startlinecolor": "#2a3f5f"
            },
            "baxis": {
             "endlinecolor": "#2a3f5f",
             "gridcolor": "white",
             "linecolor": "white",
             "minorgridcolor": "white",
             "startlinecolor": "#2a3f5f"
            },
            "type": "carpet"
           }
          ],
          "table": [
           {
            "cells": {
             "fill": {
              "color": "#EBF0F8"
             },
             "line": {
              "color": "white"
             }
            },
            "header": {
             "fill": {
              "color": "#C8D4E3"
             },
             "line": {
              "color": "white"
             }
            },
            "type": "table"
           }
          ],
          "barpolar": [
           {
            "marker": {
             "line": {
              "color": "#E5ECF6",
              "width": 0.5
             },
             "pattern": {
              "fillmode": "overlay",
              "size": 10,
              "solidity": 0.2
             }
            },
            "type": "barpolar"
           }
          ],
          "pie": [
           {
            "automargin": true,
            "type": "pie"
           }
          ]
         },
         "layout": {
          "autotypenumbers": "strict",
          "colorway": [
           "#636efa",
           "#EF553B",
           "#00cc96",
           "#ab63fa",
           "#FFA15A",
           "#19d3f3",
           "#FF6692",
           "#B6E880",
           "#FF97FF",
           "#FECB52"
          ],
          "font": {
           "color": "#2a3f5f"
          },
          "hovermode": "closest",
          "hoverlabel": {
           "align": "left"
          },
          "paper_bgcolor": "white",
          "plot_bgcolor": "#E5ECF6",
          "polar": {
           "bgcolor": "#E5ECF6",
           "angularaxis": {
            "gridcolor": "white",
            "linecolor": "white",
            "ticks": ""
           },
           "radialaxis": {
            "gridcolor": "white",
            "linecolor": "white",
            "ticks": ""
           }
          },
          "ternary": {
           "bgcolor": "#E5ECF6",
           "aaxis": {
            "gridcolor": "white",
            "linecolor": "white",
            "ticks": ""
           },
           "baxis": {
            "gridcolor": "white",
            "linecolor": "white",
            "ticks": ""
           },
           "caxis": {
            "gridcolor": "white",
            "linecolor": "white",
            "ticks": ""
           }
          },
          "coloraxis": {
           "colorbar": {
            "outlinewidth": 0,
            "ticks": ""
           }
          },
          "colorscale": {
           "sequential": [
            [
             0.0,
             "#0d0887"
            ],
            [
             0.1111111111111111,
             "#46039f"
            ],
            [
             0.2222222222222222,
             "#7201a8"
            ],
            [
             0.3333333333333333,
             "#9c179e"
            ],
            [
             0.4444444444444444,
             "#bd3786"
            ],
            [
             0.5555555555555556,
             "#d8576b"
            ],
            [
             0.6666666666666666,
             "#ed7953"
            ],
            [
             0.7777777777777778,
             "#fb9f3a"
            ],
            [
             0.8888888888888888,
             "#fdca26"
            ],
            [
             1.0,
             "#f0f921"
            ]
           ],
           "sequentialminus": [
            [
             0.0,
             "#0d0887"
            ],
            [
             0.1111111111111111,
             "#46039f"
            ],
            [
             0.2222222222222222,
             "#7201a8"
            ],
            [
             0.3333333333333333,
             "#9c179e"
            ],
            [
             0.4444444444444444,
             "#bd3786"
            ],
            [
             0.5555555555555556,
             "#d8576b"
            ],
            [
             0.6666666666666666,
             "#ed7953"
            ],
            [
             0.7777777777777778,
             "#fb9f3a"
            ],
            [
             0.8888888888888888,
             "#fdca26"
            ],
            [
             1.0,
             "#f0f921"
            ]
           ],
           "diverging": [
            [
             0,
             "#8e0152"
            ],
            [
             0.1,
             "#c51b7d"
            ],
            [
             0.2,
             "#de77ae"
            ],
            [
             0.3,
             "#f1b6da"
            ],
            [
             0.4,
             "#fde0ef"
            ],
            [
             0.5,
             "#f7f7f7"
            ],
            [
             0.6,
             "#e6f5d0"
            ],
            [
             0.7,
             "#b8e186"
            ],
            [
             0.8,
             "#7fbc41"
            ],
            [
             0.9,
             "#4d9221"
            ],
            [
             1,
             "#276419"
            ]
           ]
          },
          "xaxis": {
           "gridcolor": "white",
           "linecolor": "white",
           "ticks": "",
           "title": {
            "standoff": 15
           },
           "zerolinecolor": "white",
           "automargin": true,
           "zerolinewidth": 2
          },
          "yaxis": {
           "gridcolor": "white",
           "linecolor": "white",
           "ticks": "",
           "title": {
            "standoff": 15
           },
           "zerolinecolor": "white",
           "automargin": true,
           "zerolinewidth": 2
          },
          "scene": {
           "xaxis": {
            "backgroundcolor": "#E5ECF6",
            "gridcolor": "white",
            "linecolor": "white",
            "showbackground": true,
            "ticks": "",
            "zerolinecolor": "white",
            "gridwidth": 2
           },
           "yaxis": {
            "backgroundcolor": "#E5ECF6",
            "gridcolor": "white",
            "linecolor": "white",
            "showbackground": true,
            "ticks": "",
            "zerolinecolor": "white",
            "gridwidth": 2
           },
           "zaxis": {
            "backgroundcolor": "#E5ECF6",
            "gridcolor": "white",
            "linecolor": "white",
            "showbackground": true,
            "ticks": "",
            "zerolinecolor": "white",
            "gridwidth": 2
           }
          },
          "shapedefaults": {
           "line": {
            "color": "#2a3f5f"
           }
          },
          "annotationdefaults": {
           "arrowcolor": "#2a3f5f",
           "arrowhead": 0,
           "arrowwidth": 1
          },
          "geo": {
           "bgcolor": "white",
           "landcolor": "#E5ECF6",
           "subunitcolor": "white",
           "showland": true,
           "showlakes": true,
           "lakecolor": "white"
          },
          "title": {
           "x": 0.05
          },
          "mapbox": {
           "style": "light"
          }
         }
        },
        "xaxis": {
         "anchor": "y",
         "domain": [
          0.0,
          1.0
         ],
         "title": {
          "text": "Ano"
         }
        },
        "yaxis": {
         "anchor": "x",
         "domain": [
          0.0,
          1.0
         ],
         "title": {
          "text": "Total de Alunos"
         }
        },
        "legend": {
         "title": {
          "text": "Região"
         },
         "tracegroupgap": 0
        },
        "title": {
         "text": "Total de Alunos no Ensino Infantil por Ano e Região"
        },
        "barmode": "group",
        "uniformtext": {
         "minsize": 8,
         "mode": "hide"
        }
       },
       "config": {
        "plotlyServerURL": "https://plot.ly"
       }
      },
      "text/html": [
       "<div>                            <div id=\"b80c05b4-97cc-43ad-b718-aab66dea4e05\" class=\"plotly-graph-div\" style=\"height:525px; width:100%;\"></div>            <script type=\"text/javascript\">                require([\"plotly\"], function(Plotly) {                    window.PLOTLYENV=window.PLOTLYENV || {};                                    if (document.getElementById(\"b80c05b4-97cc-43ad-b718-aab66dea4e05\")) {                    Plotly.newPlot(                        \"b80c05b4-97cc-43ad-b718-aab66dea4e05\",                        [{\"alignmentgroup\":\"True\",\"hovertemplate\":\"Regi\\u00e3o=Centro-Oeste\\u003cbr\\u003eAno=%{x}\\u003cbr\\u003eTotal de Alunos=%{text}\\u003cextra\\u003e\\u003c\\u002fextra\\u003e\",\"legendgroup\":\"Centro-Oeste\",\"marker\":{\"color\":\"#636efa\",\"pattern\":{\"shape\":\"\"}},\"name\":\"Centro-Oeste\",\"offsetgroup\":\"Centro-Oeste\",\"orientation\":\"v\",\"showlegend\":true,\"text\":[538237.0,554050.0,587561.0,615501.0,639001.0,666098.0,664511.0,617245.0,683163.0,727978.0],\"textposition\":\"outside\",\"x\":[2014,2015,2016,2017,2018,2019,2020,2021,2022,2023],\"xaxis\":\"x\",\"y\":[538237.0,554050.0,587561.0,615501.0,639001.0,666098.0,664511.0,617245.0,683163.0,727978.0],\"yaxis\":\"y\",\"type\":\"bar\",\"texttemplate\":\"%{text:.2s}\"},{\"alignmentgroup\":\"True\",\"hovertemplate\":\"Regi\\u00e3o=Nordeste\\u003cbr\\u003eAno=%{x}\\u003cbr\\u003eTotal de Alunos=%{text}\\u003cextra\\u003e\\u003c\\u002fextra\\u003e\",\"legendgroup\":\"Nordeste\",\"marker\":{\"color\":\"#EF553B\",\"pattern\":{\"shape\":\"\"}},\"name\":\"Nordeste\",\"offsetgroup\":\"Nordeste\",\"orientation\":\"v\",\"showlegend\":true,\"text\":[2173987.0,2151831.0,2196860.0,2260907.0,2295994.0,2349305.0,2284772.0,2186690.0,2381583.0,2517501.0],\"textposition\":\"outside\",\"x\":[2014,2015,2016,2017,2018,2019,2020,2021,2022,2023],\"xaxis\":\"x\",\"y\":[2173987.0,2151831.0,2196860.0,2260907.0,2295994.0,2349305.0,2284772.0,2186690.0,2381583.0,2517501.0],\"yaxis\":\"y\",\"type\":\"bar\",\"texttemplate\":\"%{text:.2s}\"},{\"alignmentgroup\":\"True\",\"hovertemplate\":\"Regi\\u00e3o=Norte\\u003cbr\\u003eAno=%{x}\\u003cbr\\u003eTotal de Alunos=%{text}\\u003cextra\\u003e\\u003c\\u002fextra\\u003e\",\"legendgroup\":\"Norte\",\"marker\":{\"color\":\"#00cc96\",\"pattern\":{\"shape\":\"\"}},\"name\":\"Norte\",\"offsetgroup\":\"Norte\",\"orientation\":\"v\",\"showlegend\":true,\"text\":[622560.0,620990.0,634123.0,653615.0,674137.0,690631.0,689990.0,667415.0,719675.0,777419.0],\"textposition\":\"outside\",\"x\":[2014,2015,2016,2017,2018,2019,2020,2021,2022,2023],\"xaxis\":\"x\",\"y\":[622560.0,620990.0,634123.0,653615.0,674137.0,690631.0,689990.0,667415.0,719675.0,777419.0],\"yaxis\":\"y\",\"type\":\"bar\",\"texttemplate\":\"%{text:.2s}\"},{\"alignmentgroup\":\"True\",\"hovertemplate\":\"Regi\\u00e3o=Sudeste\\u003cbr\\u003eAno=%{x}\\u003cbr\\u003eTotal de Alunos=%{text}\\u003cextra\\u003e\\u003c\\u002fextra\\u003e\",\"legendgroup\":\"Sudeste\",\"marker\":{\"color\":\"#ab63fa\",\"pattern\":{\"shape\":\"\"}},\"name\":\"Sudeste\",\"offsetgroup\":\"Sudeste\",\"orientation\":\"v\",\"showlegend\":true,\"text\":[3466184.0,3529640.0,3666421.0,3735678.0,3836183.0,3919235.0,3858906.0,3584858.0,3867832.0,3999019.0],\"textposition\":\"outside\",\"x\":[2014,2015,2016,2017,2018,2019,2020,2021,2022,2023],\"xaxis\":\"x\",\"y\":[3466184.0,3529640.0,3666421.0,3735678.0,3836183.0,3919235.0,3858906.0,3584858.0,3867832.0,3999019.0],\"yaxis\":\"y\",\"type\":\"bar\",\"texttemplate\":\"%{text:.2s}\"},{\"alignmentgroup\":\"True\",\"hovertemplate\":\"Regi\\u00e3o=Sul\\u003cbr\\u003eAno=%{x}\\u003cbr\\u003eTotal de Alunos=%{text}\\u003cextra\\u003e\\u003c\\u002fextra\\u003e\",\"legendgroup\":\"Sul\",\"marker\":{\"color\":\"#FFA15A\",\"pattern\":{\"shape\":\"\"}},\"name\":\"Sul\",\"offsetgroup\":\"Sul\",\"orientation\":\"v\",\"showlegend\":true,\"text\":[1068901.0,1115719.0,1194139.0,1243030.0,1299869.0,1347509.0,1331616.0,1263191.0,1376511.0,1439238.0],\"textposition\":\"outside\",\"x\":[2014,2015,2016,2017,2018,2019,2020,2021,2022,2023],\"xaxis\":\"x\",\"y\":[1068901.0,1115719.0,1194139.0,1243030.0,1299869.0,1347509.0,1331616.0,1263191.0,1376511.0,1439238.0],\"yaxis\":\"y\",\"type\":\"bar\",\"texttemplate\":\"%{text:.2s}\"}],                        {\"template\":{\"data\":{\"histogram2dcontour\":[{\"type\":\"histogram2dcontour\",\"colorbar\":{\"outlinewidth\":0,\"ticks\":\"\"},\"colorscale\":[[0.0,\"#0d0887\"],[0.1111111111111111,\"#46039f\"],[0.2222222222222222,\"#7201a8\"],[0.3333333333333333,\"#9c179e\"],[0.4444444444444444,\"#bd3786\"],[0.5555555555555556,\"#d8576b\"],[0.6666666666666666,\"#ed7953\"],[0.7777777777777778,\"#fb9f3a\"],[0.8888888888888888,\"#fdca26\"],[1.0,\"#f0f921\"]]}],\"choropleth\":[{\"type\":\"choropleth\",\"colorbar\":{\"outlinewidth\":0,\"ticks\":\"\"}}],\"histogram2d\":[{\"type\":\"histogram2d\",\"colorbar\":{\"outlinewidth\":0,\"ticks\":\"\"},\"colorscale\":[[0.0,\"#0d0887\"],[0.1111111111111111,\"#46039f\"],[0.2222222222222222,\"#7201a8\"],[0.3333333333333333,\"#9c179e\"],[0.4444444444444444,\"#bd3786\"],[0.5555555555555556,\"#d8576b\"],[0.6666666666666666,\"#ed7953\"],[0.7777777777777778,\"#fb9f3a\"],[0.8888888888888888,\"#fdca26\"],[1.0,\"#f0f921\"]]}],\"heatmap\":[{\"type\":\"heatmap\",\"colorbar\":{\"outlinewidth\":0,\"ticks\":\"\"},\"colorscale\":[[0.0,\"#0d0887\"],[0.1111111111111111,\"#46039f\"],[0.2222222222222222,\"#7201a8\"],[0.3333333333333333,\"#9c179e\"],[0.4444444444444444,\"#bd3786\"],[0.5555555555555556,\"#d8576b\"],[0.6666666666666666,\"#ed7953\"],[0.7777777777777778,\"#fb9f3a\"],[0.8888888888888888,\"#fdca26\"],[1.0,\"#f0f921\"]]}],\"heatmapgl\":[{\"type\":\"heatmapgl\",\"colorbar\":{\"outlinewidth\":0,\"ticks\":\"\"},\"colorscale\":[[0.0,\"#0d0887\"],[0.1111111111111111,\"#46039f\"],[0.2222222222222222,\"#7201a8\"],[0.3333333333333333,\"#9c179e\"],[0.4444444444444444,\"#bd3786\"],[0.5555555555555556,\"#d8576b\"],[0.6666666666666666,\"#ed7953\"],[0.7777777777777778,\"#fb9f3a\"],[0.8888888888888888,\"#fdca26\"],[1.0,\"#f0f921\"]]}],\"contourcarpet\":[{\"type\":\"contourcarpet\",\"colorbar\":{\"outlinewidth\":0,\"ticks\":\"\"}}],\"contour\":[{\"type\":\"contour\",\"colorbar\":{\"outlinewidth\":0,\"ticks\":\"\"},\"colorscale\":[[0.0,\"#0d0887\"],[0.1111111111111111,\"#46039f\"],[0.2222222222222222,\"#7201a8\"],[0.3333333333333333,\"#9c179e\"],[0.4444444444444444,\"#bd3786\"],[0.5555555555555556,\"#d8576b\"],[0.6666666666666666,\"#ed7953\"],[0.7777777777777778,\"#fb9f3a\"],[0.8888888888888888,\"#fdca26\"],[1.0,\"#f0f921\"]]}],\"surface\":[{\"type\":\"surface\",\"colorbar\":{\"outlinewidth\":0,\"ticks\":\"\"},\"colorscale\":[[0.0,\"#0d0887\"],[0.1111111111111111,\"#46039f\"],[0.2222222222222222,\"#7201a8\"],[0.3333333333333333,\"#9c179e\"],[0.4444444444444444,\"#bd3786\"],[0.5555555555555556,\"#d8576b\"],[0.6666666666666666,\"#ed7953\"],[0.7777777777777778,\"#fb9f3a\"],[0.8888888888888888,\"#fdca26\"],[1.0,\"#f0f921\"]]}],\"mesh3d\":[{\"type\":\"mesh3d\",\"colorbar\":{\"outlinewidth\":0,\"ticks\":\"\"}}],\"scatter\":[{\"fillpattern\":{\"fillmode\":\"overlay\",\"size\":10,\"solidity\":0.2},\"type\":\"scatter\"}],\"parcoords\":[{\"type\":\"parcoords\",\"line\":{\"colorbar\":{\"outlinewidth\":0,\"ticks\":\"\"}}}],\"scatterpolargl\":[{\"type\":\"scatterpolargl\",\"marker\":{\"colorbar\":{\"outlinewidth\":0,\"ticks\":\"\"}}}],\"bar\":[{\"error_x\":{\"color\":\"#2a3f5f\"},\"error_y\":{\"color\":\"#2a3f5f\"},\"marker\":{\"line\":{\"color\":\"#E5ECF6\",\"width\":0.5},\"pattern\":{\"fillmode\":\"overlay\",\"size\":10,\"solidity\":0.2}},\"type\":\"bar\"}],\"scattergeo\":[{\"type\":\"scattergeo\",\"marker\":{\"colorbar\":{\"outlinewidth\":0,\"ticks\":\"\"}}}],\"scatterpolar\":[{\"type\":\"scatterpolar\",\"marker\":{\"colorbar\":{\"outlinewidth\":0,\"ticks\":\"\"}}}],\"histogram\":[{\"marker\":{\"pattern\":{\"fillmode\":\"overlay\",\"size\":10,\"solidity\":0.2}},\"type\":\"histogram\"}],\"scattergl\":[{\"type\":\"scattergl\",\"marker\":{\"colorbar\":{\"outlinewidth\":0,\"ticks\":\"\"}}}],\"scatter3d\":[{\"type\":\"scatter3d\",\"line\":{\"colorbar\":{\"outlinewidth\":0,\"ticks\":\"\"}},\"marker\":{\"colorbar\":{\"outlinewidth\":0,\"ticks\":\"\"}}}],\"scattermapbox\":[{\"type\":\"scattermapbox\",\"marker\":{\"colorbar\":{\"outlinewidth\":0,\"ticks\":\"\"}}}],\"scatterternary\":[{\"type\":\"scatterternary\",\"marker\":{\"colorbar\":{\"outlinewidth\":0,\"ticks\":\"\"}}}],\"scattercarpet\":[{\"type\":\"scattercarpet\",\"marker\":{\"colorbar\":{\"outlinewidth\":0,\"ticks\":\"\"}}}],\"carpet\":[{\"aaxis\":{\"endlinecolor\":\"#2a3f5f\",\"gridcolor\":\"white\",\"linecolor\":\"white\",\"minorgridcolor\":\"white\",\"startlinecolor\":\"#2a3f5f\"},\"baxis\":{\"endlinecolor\":\"#2a3f5f\",\"gridcolor\":\"white\",\"linecolor\":\"white\",\"minorgridcolor\":\"white\",\"startlinecolor\":\"#2a3f5f\"},\"type\":\"carpet\"}],\"table\":[{\"cells\":{\"fill\":{\"color\":\"#EBF0F8\"},\"line\":{\"color\":\"white\"}},\"header\":{\"fill\":{\"color\":\"#C8D4E3\"},\"line\":{\"color\":\"white\"}},\"type\":\"table\"}],\"barpolar\":[{\"marker\":{\"line\":{\"color\":\"#E5ECF6\",\"width\":0.5},\"pattern\":{\"fillmode\":\"overlay\",\"size\":10,\"solidity\":0.2}},\"type\":\"barpolar\"}],\"pie\":[{\"automargin\":true,\"type\":\"pie\"}]},\"layout\":{\"autotypenumbers\":\"strict\",\"colorway\":[\"#636efa\",\"#EF553B\",\"#00cc96\",\"#ab63fa\",\"#FFA15A\",\"#19d3f3\",\"#FF6692\",\"#B6E880\",\"#FF97FF\",\"#FECB52\"],\"font\":{\"color\":\"#2a3f5f\"},\"hovermode\":\"closest\",\"hoverlabel\":{\"align\":\"left\"},\"paper_bgcolor\":\"white\",\"plot_bgcolor\":\"#E5ECF6\",\"polar\":{\"bgcolor\":\"#E5ECF6\",\"angularaxis\":{\"gridcolor\":\"white\",\"linecolor\":\"white\",\"ticks\":\"\"},\"radialaxis\":{\"gridcolor\":\"white\",\"linecolor\":\"white\",\"ticks\":\"\"}},\"ternary\":{\"bgcolor\":\"#E5ECF6\",\"aaxis\":{\"gridcolor\":\"white\",\"linecolor\":\"white\",\"ticks\":\"\"},\"baxis\":{\"gridcolor\":\"white\",\"linecolor\":\"white\",\"ticks\":\"\"},\"caxis\":{\"gridcolor\":\"white\",\"linecolor\":\"white\",\"ticks\":\"\"}},\"coloraxis\":{\"colorbar\":{\"outlinewidth\":0,\"ticks\":\"\"}},\"colorscale\":{\"sequential\":[[0.0,\"#0d0887\"],[0.1111111111111111,\"#46039f\"],[0.2222222222222222,\"#7201a8\"],[0.3333333333333333,\"#9c179e\"],[0.4444444444444444,\"#bd3786\"],[0.5555555555555556,\"#d8576b\"],[0.6666666666666666,\"#ed7953\"],[0.7777777777777778,\"#fb9f3a\"],[0.8888888888888888,\"#fdca26\"],[1.0,\"#f0f921\"]],\"sequentialminus\":[[0.0,\"#0d0887\"],[0.1111111111111111,\"#46039f\"],[0.2222222222222222,\"#7201a8\"],[0.3333333333333333,\"#9c179e\"],[0.4444444444444444,\"#bd3786\"],[0.5555555555555556,\"#d8576b\"],[0.6666666666666666,\"#ed7953\"],[0.7777777777777778,\"#fb9f3a\"],[0.8888888888888888,\"#fdca26\"],[1.0,\"#f0f921\"]],\"diverging\":[[0,\"#8e0152\"],[0.1,\"#c51b7d\"],[0.2,\"#de77ae\"],[0.3,\"#f1b6da\"],[0.4,\"#fde0ef\"],[0.5,\"#f7f7f7\"],[0.6,\"#e6f5d0\"],[0.7,\"#b8e186\"],[0.8,\"#7fbc41\"],[0.9,\"#4d9221\"],[1,\"#276419\"]]},\"xaxis\":{\"gridcolor\":\"white\",\"linecolor\":\"white\",\"ticks\":\"\",\"title\":{\"standoff\":15},\"zerolinecolor\":\"white\",\"automargin\":true,\"zerolinewidth\":2},\"yaxis\":{\"gridcolor\":\"white\",\"linecolor\":\"white\",\"ticks\":\"\",\"title\":{\"standoff\":15},\"zerolinecolor\":\"white\",\"automargin\":true,\"zerolinewidth\":2},\"scene\":{\"xaxis\":{\"backgroundcolor\":\"#E5ECF6\",\"gridcolor\":\"white\",\"linecolor\":\"white\",\"showbackground\":true,\"ticks\":\"\",\"zerolinecolor\":\"white\",\"gridwidth\":2},\"yaxis\":{\"backgroundcolor\":\"#E5ECF6\",\"gridcolor\":\"white\",\"linecolor\":\"white\",\"showbackground\":true,\"ticks\":\"\",\"zerolinecolor\":\"white\",\"gridwidth\":2},\"zaxis\":{\"backgroundcolor\":\"#E5ECF6\",\"gridcolor\":\"white\",\"linecolor\":\"white\",\"showbackground\":true,\"ticks\":\"\",\"zerolinecolor\":\"white\",\"gridwidth\":2}},\"shapedefaults\":{\"line\":{\"color\":\"#2a3f5f\"}},\"annotationdefaults\":{\"arrowcolor\":\"#2a3f5f\",\"arrowhead\":0,\"arrowwidth\":1},\"geo\":{\"bgcolor\":\"white\",\"landcolor\":\"#E5ECF6\",\"subunitcolor\":\"white\",\"showland\":true,\"showlakes\":true,\"lakecolor\":\"white\"},\"title\":{\"x\":0.05},\"mapbox\":{\"style\":\"light\"}}},\"xaxis\":{\"anchor\":\"y\",\"domain\":[0.0,1.0],\"title\":{\"text\":\"Ano\"}},\"yaxis\":{\"anchor\":\"x\",\"domain\":[0.0,1.0],\"title\":{\"text\":\"Total de Alunos\"}},\"legend\":{\"title\":{\"text\":\"Regi\\u00e3o\"},\"tracegroupgap\":0},\"title\":{\"text\":\"Total de Alunos no Ensino Infantil por Ano e Regi\\u00e3o\"},\"barmode\":\"group\",\"uniformtext\":{\"minsize\":8,\"mode\":\"hide\"}},                        {\"responsive\": true}                    ).then(function(){\n",
       "                            \n",
       "var gd = document.getElementById('b80c05b4-97cc-43ad-b718-aab66dea4e05');\n",
       "var x = new MutationObserver(function (mutations, observer) {{\n",
       "        var display = window.getComputedStyle(gd).display;\n",
       "        if (!display || display === 'none') {{\n",
       "            console.log([gd, 'removed!']);\n",
       "            Plotly.purge(gd);\n",
       "            observer.disconnect();\n",
       "        }}\n",
       "}});\n",
       "\n",
       "// Listen for the removal of the full notebook cells\n",
       "var notebookContainer = gd.closest('#notebook-container');\n",
       "if (notebookContainer) {{\n",
       "    x.observe(notebookContainer, {childList: true});\n",
       "}}\n",
       "\n",
       "// Listen for the clearing of the current output cell\n",
       "var outputEl = gd.closest('.output');\n",
       "if (outputEl) {{\n",
       "    x.observe(outputEl, {childList: true});\n",
       "}}\n",
       "\n",
       "                        })                };                });            </script>        </div>"
      ]
     },
     "metadata": {},
     "output_type": "display_data"
    }
   ],
   "execution_count": 49
  },
  {
   "metadata": {},
   "cell_type": "code",
   "outputs": [],
   "execution_count": null,
   "source": "",
   "id": "9ef831cd62f636a5"
  },
  {
   "cell_type": "code",
   "id": "594079a9-d95e-478c-9ad5-4ac11f6f148f",
   "metadata": {
    "ExecuteTime": {
     "end_time": "2024-10-09T03:07:00.274794Z",
     "start_time": "2024-10-09T03:06:54.847879Z"
    }
   },
   "source": "df = pl.read_csv(filename, separator=',', columns=colunas )",
   "outputs": [],
   "execution_count": 10
  },
  {
   "cell_type": "code",
   "id": "540c6249-16f6-4f48-9920-64ffd81b370b",
   "metadata": {
    "ExecuteTime": {
     "end_time": "2024-10-07T13:15:36.291456Z",
     "start_time": "2024-10-07T13:15:36.278532Z"
    }
   },
   "source": [
    "df.shape"
   ],
   "outputs": [
    {
     "data": {
      "text/plain": [
       "(3842919, 93)"
      ]
     },
     "execution_count": 5,
     "metadata": {},
     "output_type": "execute_result"
    }
   ],
   "execution_count": 5
  },
  {
   "cell_type": "code",
   "id": "ffad786e289fb10e",
   "metadata": {
    "ExecuteTime": {
     "end_time": "2024-10-07T13:15:45.164280Z",
     "start_time": "2024-10-07T13:15:45.155025Z"
    }
   },
   "source": "df.estimated_size(\"gb\")",
   "outputs": [
    {
     "data": {
      "text/plain": [
       "2.439439019188285"
      ]
     },
     "execution_count": 6,
     "metadata": {},
     "output_type": "execute_result"
    }
   ],
   "execution_count": 6
  },
  {
   "metadata": {
    "ExecuteTime": {
     "end_time": "2024-10-07T13:18:16.843392Z",
     "start_time": "2024-10-07T13:18:15.973850Z"
    }
   },
   "cell_type": "code",
   "source": "import pandas as pd",
   "id": "7c4f9a3f9e73fdb7",
   "outputs": [],
   "execution_count": 10
  },
  {
   "metadata": {
    "ExecuteTime": {
     "end_time": "2024-10-07T13:19:30.948273Z",
     "start_time": "2024-10-07T13:18:25.206413Z"
    }
   },
   "cell_type": "code",
   "source": "df = pd.read_csv(filename, sep=',', low_memory=True)",
   "id": "4ff29d7608c78aa9",
   "outputs": [
    {
     "ename": "KeyboardInterrupt",
     "evalue": "",
     "output_type": "error",
     "traceback": [
      "\u001B[1;31m---------------------------------------------------------------------------\u001B[0m",
      "\u001B[1;31mKeyboardInterrupt\u001B[0m                         Traceback (most recent call last)",
      "Cell \u001B[1;32mIn[12], line 1\u001B[0m\n\u001B[1;32m----> 1\u001B[0m df \u001B[38;5;241m=\u001B[39m \u001B[43mpd\u001B[49m\u001B[38;5;241;43m.\u001B[39;49m\u001B[43mread_csv\u001B[49m\u001B[43m(\u001B[49m\u001B[43mfilename\u001B[49m\u001B[43m,\u001B[49m\u001B[43m \u001B[49m\u001B[43msep\u001B[49m\u001B[38;5;241;43m=\u001B[39;49m\u001B[38;5;124;43m'\u001B[39;49m\u001B[38;5;124;43m,\u001B[39;49m\u001B[38;5;124;43m'\u001B[39;49m\u001B[43m,\u001B[49m\u001B[43m \u001B[49m\u001B[43mlow_memory\u001B[49m\u001B[38;5;241;43m=\u001B[39;49m\u001B[38;5;28;43;01mTrue\u001B[39;49;00m\u001B[43m)\u001B[49m\n",
      "File \u001B[1;32m~\\PycharmProjects\\censo_escolar\\venv\\Lib\\site-packages\\pandas\\io\\parsers\\readers.py:1026\u001B[0m, in \u001B[0;36mread_csv\u001B[1;34m(filepath_or_buffer, sep, delimiter, header, names, index_col, usecols, dtype, engine, converters, true_values, false_values, skipinitialspace, skiprows, skipfooter, nrows, na_values, keep_default_na, na_filter, verbose, skip_blank_lines, parse_dates, infer_datetime_format, keep_date_col, date_parser, date_format, dayfirst, cache_dates, iterator, chunksize, compression, thousands, decimal, lineterminator, quotechar, quoting, doublequote, escapechar, comment, encoding, encoding_errors, dialect, on_bad_lines, delim_whitespace, low_memory, memory_map, float_precision, storage_options, dtype_backend)\u001B[0m\n\u001B[0;32m   1013\u001B[0m kwds_defaults \u001B[38;5;241m=\u001B[39m _refine_defaults_read(\n\u001B[0;32m   1014\u001B[0m     dialect,\n\u001B[0;32m   1015\u001B[0m     delimiter,\n\u001B[1;32m   (...)\u001B[0m\n\u001B[0;32m   1022\u001B[0m     dtype_backend\u001B[38;5;241m=\u001B[39mdtype_backend,\n\u001B[0;32m   1023\u001B[0m )\n\u001B[0;32m   1024\u001B[0m kwds\u001B[38;5;241m.\u001B[39mupdate(kwds_defaults)\n\u001B[1;32m-> 1026\u001B[0m \u001B[38;5;28;01mreturn\u001B[39;00m \u001B[43m_read\u001B[49m\u001B[43m(\u001B[49m\u001B[43mfilepath_or_buffer\u001B[49m\u001B[43m,\u001B[49m\u001B[43m \u001B[49m\u001B[43mkwds\u001B[49m\u001B[43m)\u001B[49m\n",
      "File \u001B[1;32m~\\PycharmProjects\\censo_escolar\\venv\\Lib\\site-packages\\pandas\\io\\parsers\\readers.py:626\u001B[0m, in \u001B[0;36m_read\u001B[1;34m(filepath_or_buffer, kwds)\u001B[0m\n\u001B[0;32m    623\u001B[0m     \u001B[38;5;28;01mreturn\u001B[39;00m parser\n\u001B[0;32m    625\u001B[0m \u001B[38;5;28;01mwith\u001B[39;00m parser:\n\u001B[1;32m--> 626\u001B[0m     \u001B[38;5;28;01mreturn\u001B[39;00m \u001B[43mparser\u001B[49m\u001B[38;5;241;43m.\u001B[39;49m\u001B[43mread\u001B[49m\u001B[43m(\u001B[49m\u001B[43mnrows\u001B[49m\u001B[43m)\u001B[49m\n",
      "File \u001B[1;32m~\\PycharmProjects\\censo_escolar\\venv\\Lib\\site-packages\\pandas\\io\\parsers\\readers.py:1923\u001B[0m, in \u001B[0;36mTextFileReader.read\u001B[1;34m(self, nrows)\u001B[0m\n\u001B[0;32m   1916\u001B[0m nrows \u001B[38;5;241m=\u001B[39m validate_integer(\u001B[38;5;124m\"\u001B[39m\u001B[38;5;124mnrows\u001B[39m\u001B[38;5;124m\"\u001B[39m, nrows)\n\u001B[0;32m   1917\u001B[0m \u001B[38;5;28;01mtry\u001B[39;00m:\n\u001B[0;32m   1918\u001B[0m     \u001B[38;5;66;03m# error: \"ParserBase\" has no attribute \"read\"\u001B[39;00m\n\u001B[0;32m   1919\u001B[0m     (\n\u001B[0;32m   1920\u001B[0m         index,\n\u001B[0;32m   1921\u001B[0m         columns,\n\u001B[0;32m   1922\u001B[0m         col_dict,\n\u001B[1;32m-> 1923\u001B[0m     ) \u001B[38;5;241m=\u001B[39m \u001B[38;5;28;43mself\u001B[39;49m\u001B[38;5;241;43m.\u001B[39;49m\u001B[43m_engine\u001B[49m\u001B[38;5;241;43m.\u001B[39;49m\u001B[43mread\u001B[49m\u001B[43m(\u001B[49m\u001B[43m  \u001B[49m\u001B[38;5;66;43;03m# type: ignore[attr-defined]\u001B[39;49;00m\n\u001B[0;32m   1924\u001B[0m \u001B[43m        \u001B[49m\u001B[43mnrows\u001B[49m\n\u001B[0;32m   1925\u001B[0m \u001B[43m    \u001B[49m\u001B[43m)\u001B[49m\n\u001B[0;32m   1926\u001B[0m \u001B[38;5;28;01mexcept\u001B[39;00m \u001B[38;5;167;01mException\u001B[39;00m:\n\u001B[0;32m   1927\u001B[0m     \u001B[38;5;28mself\u001B[39m\u001B[38;5;241m.\u001B[39mclose()\n",
      "File \u001B[1;32m~\\PycharmProjects\\censo_escolar\\venv\\Lib\\site-packages\\pandas\\io\\parsers\\c_parser_wrapper.py:234\u001B[0m, in \u001B[0;36mCParserWrapper.read\u001B[1;34m(self, nrows)\u001B[0m\n\u001B[0;32m    232\u001B[0m \u001B[38;5;28;01mtry\u001B[39;00m:\n\u001B[0;32m    233\u001B[0m     \u001B[38;5;28;01mif\u001B[39;00m \u001B[38;5;28mself\u001B[39m\u001B[38;5;241m.\u001B[39mlow_memory:\n\u001B[1;32m--> 234\u001B[0m         chunks \u001B[38;5;241m=\u001B[39m \u001B[38;5;28;43mself\u001B[39;49m\u001B[38;5;241;43m.\u001B[39;49m\u001B[43m_reader\u001B[49m\u001B[38;5;241;43m.\u001B[39;49m\u001B[43mread_low_memory\u001B[49m\u001B[43m(\u001B[49m\u001B[43mnrows\u001B[49m\u001B[43m)\u001B[49m\n\u001B[0;32m    235\u001B[0m         \u001B[38;5;66;03m# destructive to chunks\u001B[39;00m\n\u001B[0;32m    236\u001B[0m         data \u001B[38;5;241m=\u001B[39m _concatenate_chunks(chunks)\n",
      "File \u001B[1;32mparsers.pyx:838\u001B[0m, in \u001B[0;36mpandas._libs.parsers.TextReader.read_low_memory\u001B[1;34m()\u001B[0m\n",
      "File \u001B[1;32mparsers.pyx:921\u001B[0m, in \u001B[0;36mpandas._libs.parsers.TextReader._read_rows\u001B[1;34m()\u001B[0m\n",
      "File \u001B[1;32mparsers.pyx:1083\u001B[0m, in \u001B[0;36mpandas._libs.parsers.TextReader._convert_column_data\u001B[1;34m()\u001B[0m\n",
      "File \u001B[1;32mparsers.pyx:1456\u001B[0m, in \u001B[0;36mpandas._libs.parsers._maybe_upcast\u001B[1;34m()\u001B[0m\n",
      "File \u001B[1;32m~\\PycharmProjects\\censo_escolar\\venv\\Lib\\site-packages\\numpy\\_core\\multiarray.py:1153\u001B[0m, in \u001B[0;36mputmask\u001B[1;34m(a, mask, values)\u001B[0m\n\u001B[0;32m   1103\u001B[0m \u001B[38;5;250m    \u001B[39m\u001B[38;5;124;03m\"\"\"\u001B[39;00m\n\u001B[0;32m   1104\u001B[0m \u001B[38;5;124;03m    copyto(dst, src, casting='same_kind', where=True)\u001B[39;00m\n\u001B[0;32m   1105\u001B[0m \n\u001B[1;32m   (...)\u001B[0m\n\u001B[0;32m   1148\u001B[0m \n\u001B[0;32m   1149\u001B[0m \u001B[38;5;124;03m    \"\"\"\u001B[39;00m\n\u001B[0;32m   1150\u001B[0m     \u001B[38;5;28;01mreturn\u001B[39;00m (dst, src, where)\n\u001B[1;32m-> 1153\u001B[0m \u001B[38;5;129m@array_function_from_c_func_and_dispatcher\u001B[39m(_multiarray_umath\u001B[38;5;241m.\u001B[39mputmask)\n\u001B[0;32m   1154\u001B[0m \u001B[38;5;28;01mdef\u001B[39;00m \u001B[38;5;21mputmask\u001B[39m(a, \u001B[38;5;241m/\u001B[39m, mask, values):\n\u001B[0;32m   1155\u001B[0m \u001B[38;5;250m    \u001B[39m\u001B[38;5;124;03m\"\"\"\u001B[39;00m\n\u001B[0;32m   1156\u001B[0m \u001B[38;5;124;03m    putmask(a, mask, values)\u001B[39;00m\n\u001B[0;32m   1157\u001B[0m \n\u001B[1;32m   (...)\u001B[0m\n\u001B[0;32m   1194\u001B[0m \n\u001B[0;32m   1195\u001B[0m \u001B[38;5;124;03m    \"\"\"\u001B[39;00m\n\u001B[0;32m   1196\u001B[0m     \u001B[38;5;28;01mreturn\u001B[39;00m (a, mask, values)\n",
      "\u001B[1;31mKeyboardInterrupt\u001B[0m: "
     ]
    }
   ],
   "execution_count": 12
  },
  {
   "cell_type": "code",
   "id": "545005180cd2bc92",
   "metadata": {
    "ExecuteTime": {
     "end_time": "2024-10-07T13:16:15.308883Z",
     "start_time": "2024-10-07T13:16:15.294758Z"
    }
   },
   "source": "df.head(10)",
   "outputs": [
    {
     "data": {
      "text/plain": [
       "shape: (10, 93)\n",
       "┌────────────┬───────────┬──────────┬───────┬───┬────────────┬────────────┬────────────┬───────────┐\n",
       "│ NU_ANO_CEN ┆ NO_REGIAO ┆ NO_UF    ┆ SG_UF ┆ … ┆ QT_TUR_EJA ┆ QT_TUR_ESP ┆ QT_TUR_ESP ┆ QT_TUR_ES │\n",
       "│ SO         ┆ ---       ┆ ---      ┆ ---   ┆   ┆ _MED       ┆ ---        ┆ _CC        ┆ P_CE      │\n",
       "│ ---        ┆ str       ┆ str      ┆ str   ┆   ┆ ---        ┆ f64        ┆ ---        ┆ ---       │\n",
       "│ i64        ┆           ┆          ┆       ┆   ┆ f64        ┆            ┆ f64        ┆ f64       │\n",
       "╞════════════╪═══════════╪══════════╪═══════╪═══╪════════════╪════════════╪════════════╪═══════════╡\n",
       "│ 2007       ┆ Norte     ┆ Rondônia ┆ RO    ┆ … ┆ 0.0        ┆ 0.0        ┆ 0.0        ┆ 0.0       │\n",
       "│ 2007       ┆ Norte     ┆ Rondônia ┆ RO    ┆ … ┆ 7.0        ┆ 0.0        ┆ 0.0        ┆ 0.0       │\n",
       "│ 2007       ┆ Norte     ┆ Rondônia ┆ RO    ┆ … ┆ 0.0        ┆ 0.0        ┆ 0.0        ┆ 0.0       │\n",
       "│ 2007       ┆ Norte     ┆ Rondônia ┆ RO    ┆ … ┆ 0.0        ┆ 0.0        ┆ 0.0        ┆ 0.0       │\n",
       "│ 2007       ┆ Norte     ┆ Rondônia ┆ RO    ┆ … ┆ 0.0        ┆ 0.0        ┆ 0.0        ┆ 0.0       │\n",
       "│ 2007       ┆ Norte     ┆ Rondônia ┆ RO    ┆ … ┆ 0.0        ┆ 0.0        ┆ 0.0        ┆ 0.0       │\n",
       "│ 2007       ┆ Norte     ┆ Rondônia ┆ RO    ┆ … ┆ 0.0        ┆ 0.0        ┆ 0.0        ┆ 0.0       │\n",
       "│ 2007       ┆ Norte     ┆ Rondônia ┆ RO    ┆ … ┆ 0.0        ┆ 0.0        ┆ 0.0        ┆ 0.0       │\n",
       "│ 2007       ┆ Norte     ┆ Rondônia ┆ RO    ┆ … ┆ 0.0        ┆ 0.0        ┆ 0.0        ┆ 0.0       │\n",
       "│ 2007       ┆ Norte     ┆ Rondônia ┆ RO    ┆ … ┆ 0.0        ┆ 0.0        ┆ 0.0        ┆ 0.0       │\n",
       "└────────────┴───────────┴──────────┴───────┴───┴────────────┴────────────┴────────────┴───────────┘"
      ],
      "text/html": [
       "<div><style>\n",
       ".dataframe > thead > tr,\n",
       ".dataframe > tbody > tr {\n",
       "  text-align: right;\n",
       "  white-space: pre-wrap;\n",
       "}\n",
       "</style>\n",
       "<small>shape: (10, 93)</small><table border=\"1\" class=\"dataframe\"><thead><tr><th>NU_ANO_CENSO</th><th>NO_REGIAO</th><th>NO_UF</th><th>SG_UF</th><th>NO_MUNICIPIO</th><th>TP_DEPENDENCIA</th><th>TP_LOCALIZACAO</th><th>IN_LABORATORIO_CIENCIAS</th><th>IN_LABORATORIO_INFORMATICA</th><th>IN_ACESSO_INTERNET_COMPUTADOR</th><th>IN_BANDA_LARGA</th><th>IN_PROF_PSICOLOGO</th><th>QT_PROF_PSICOLOGO</th><th>IN_PROF_PEDAGOGIA</th><th>QT_PROF_PEDAGOGIA</th><th>IN_PROF_SECRETARIO</th><th>QT_PROF_SECRETARIO</th><th>IN_PROF_MONITORES</th><th>QT_PROF_MONITORES</th><th>IN_PROF_ASSIST_SOCIAL</th><th>QT_PROF_ASSIST_SOCIAL</th><th>QT_MAT_BAS</th><th>QT_MAT_INF</th><th>QT_MAT_INF_CRE</th><th>QT_MAT_INF_PRE</th><th>QT_MAT_FUND</th><th>QT_MAT_FUND_AI</th><th>QT_MAT_FUND_AF</th><th>QT_MAT_MED</th><th>QT_MAT_PROF</th><th>QT_MAT_PROF_TEC</th><th>QT_MAT_EJA</th><th>QT_MAT_EJA_FUND</th><th>QT_MAT_EJA_MED</th><th>QT_MAT_ESP</th><th>QT_MAT_ESP_CC</th><th>QT_MAT_ESP_CE</th><th>&hellip;</th><th>QT_MAT_INF_PRE_INT</th><th>QT_MAT_FUND_INT</th><th>QT_MAT_FUND_AI_INT</th><th>QT_MAT_FUND_AF_INT</th><th>QT_MAT_MED_INT</th><th>QT_DOC_BAS</th><th>QT_DOC_INF</th><th>QT_DOC_INF_CRE</th><th>QT_DOC_INF_PRE</th><th>QT_DOC_FUND</th><th>QT_DOC_FUND_AI</th><th>QT_DOC_FUND_AF</th><th>QT_DOC_MED</th><th>QT_DOC_PROF</th><th>QT_DOC_PROF_TEC</th><th>QT_DOC_EJA</th><th>QT_DOC_EJA_FUND</th><th>QT_DOC_EJA_MED</th><th>QT_DOC_ESP</th><th>QT_DOC_ESP_CC</th><th>QT_DOC_ESP_CE</th><th>QT_TUR_BAS</th><th>QT_TUR_INF</th><th>QT_TUR_INF_CRE</th><th>QT_TUR_INF_PRE</th><th>QT_TUR_FUND</th><th>QT_TUR_FUND_AI</th><th>QT_TUR_FUND_AF</th><th>QT_TUR_MED</th><th>QT_TUR_PROF</th><th>QT_TUR_PROF_TEC</th><th>QT_TUR_EJA</th><th>QT_TUR_EJA_FUND</th><th>QT_TUR_EJA_MED</th><th>QT_TUR_ESP</th><th>QT_TUR_ESP_CC</th><th>QT_TUR_ESP_CE</th></tr><tr><td>i64</td><td>str</td><td>str</td><td>str</td><td>str</td><td>i64</td><td>i64</td><td>f64</td><td>f64</td><td>str</td><td>str</td><td>str</td><td>str</td><td>str</td><td>str</td><td>str</td><td>str</td><td>str</td><td>str</td><td>str</td><td>str</td><td>f64</td><td>f64</td><td>f64</td><td>f64</td><td>f64</td><td>f64</td><td>f64</td><td>f64</td><td>f64</td><td>f64</td><td>f64</td><td>f64</td><td>f64</td><td>f64</td><td>f64</td><td>f64</td><td>&hellip;</td><td>f64</td><td>f64</td><td>f64</td><td>f64</td><td>f64</td><td>f64</td><td>f64</td><td>f64</td><td>f64</td><td>f64</td><td>f64</td><td>f64</td><td>f64</td><td>f64</td><td>f64</td><td>f64</td><td>f64</td><td>f64</td><td>f64</td><td>f64</td><td>f64</td><td>f64</td><td>f64</td><td>f64</td><td>f64</td><td>f64</td><td>f64</td><td>f64</td><td>f64</td><td>f64</td><td>f64</td><td>f64</td><td>f64</td><td>f64</td><td>f64</td><td>f64</td><td>f64</td></tr></thead><tbody><tr><td>2007</td><td>&quot;Norte&quot;</td><td>&quot;Rondônia&quot;</td><td>&quot;RO&quot;</td><td>&quot;Alta Floresta D&#x27;Oeste&quot;</td><td>2</td><td>2</td><td>0.0</td><td>0.0</td><td>null</td><td>null</td><td>null</td><td>null</td><td>null</td><td>null</td><td>null</td><td>null</td><td>null</td><td>null</td><td>null</td><td>null</td><td>15.0</td><td>0.0</td><td>0.0</td><td>0.0</td><td>15.0</td><td>15.0</td><td>0.0</td><td>0.0</td><td>0.0</td><td>0.0</td><td>0.0</td><td>0.0</td><td>0.0</td><td>0.0</td><td>0.0</td><td>0.0</td><td>&hellip;</td><td>0.0</td><td>0.0</td><td>0.0</td><td>0.0</td><td>0.0</td><td>1.0</td><td>0.0</td><td>0.0</td><td>0.0</td><td>1.0</td><td>0.0</td><td>1.0</td><td>0.0</td><td>0.0</td><td>0.0</td><td>0.0</td><td>0.0</td><td>0.0</td><td>0.0</td><td>0.0</td><td>0.0</td><td>1.0</td><td>0.0</td><td>0.0</td><td>0.0</td><td>1.0</td><td>0.0</td><td>1.0</td><td>0.0</td><td>0.0</td><td>0.0</td><td>0.0</td><td>0.0</td><td>0.0</td><td>0.0</td><td>0.0</td><td>0.0</td></tr><tr><td>2007</td><td>&quot;Norte&quot;</td><td>&quot;Rondônia&quot;</td><td>&quot;RO&quot;</td><td>&quot;Alta Floresta D&#x27;Oeste&quot;</td><td>2</td><td>1</td><td>0.0</td><td>0.0</td><td>null</td><td>null</td><td>null</td><td>null</td><td>null</td><td>null</td><td>null</td><td>null</td><td>null</td><td>null</td><td>null</td><td>null</td><td>857.0</td><td>0.0</td><td>0.0</td><td>0.0</td><td>0.0</td><td>0.0</td><td>0.0</td><td>0.0</td><td>0.0</td><td>0.0</td><td>857.0</td><td>539.0</td><td>318.0</td><td>0.0</td><td>0.0</td><td>0.0</td><td>&hellip;</td><td>0.0</td><td>0.0</td><td>0.0</td><td>0.0</td><td>0.0</td><td>36.0</td><td>0.0</td><td>0.0</td><td>0.0</td><td>0.0</td><td>0.0</td><td>0.0</td><td>0.0</td><td>0.0</td><td>0.0</td><td>36.0</td><td>31.0</td><td>25.0</td><td>0.0</td><td>0.0</td><td>0.0</td><td>17.0</td><td>0.0</td><td>0.0</td><td>0.0</td><td>0.0</td><td>0.0</td><td>0.0</td><td>0.0</td><td>0.0</td><td>0.0</td><td>17.0</td><td>10.0</td><td>7.0</td><td>0.0</td><td>0.0</td><td>0.0</td></tr><tr><td>2007</td><td>&quot;Norte&quot;</td><td>&quot;Rondônia&quot;</td><td>&quot;RO&quot;</td><td>&quot;Alta Floresta D&#x27;Oeste&quot;</td><td>3</td><td>2</td><td>0.0</td><td>0.0</td><td>null</td><td>null</td><td>null</td><td>null</td><td>null</td><td>null</td><td>null</td><td>null</td><td>null</td><td>null</td><td>null</td><td>null</td><td>24.0</td><td>0.0</td><td>0.0</td><td>0.0</td><td>24.0</td><td>24.0</td><td>0.0</td><td>0.0</td><td>0.0</td><td>0.0</td><td>0.0</td><td>0.0</td><td>0.0</td><td>0.0</td><td>0.0</td><td>0.0</td><td>&hellip;</td><td>0.0</td><td>0.0</td><td>0.0</td><td>0.0</td><td>0.0</td><td>1.0</td><td>0.0</td><td>0.0</td><td>0.0</td><td>1.0</td><td>1.0</td><td>1.0</td><td>0.0</td><td>0.0</td><td>0.0</td><td>0.0</td><td>0.0</td><td>0.0</td><td>0.0</td><td>0.0</td><td>0.0</td><td>2.0</td><td>0.0</td><td>0.0</td><td>0.0</td><td>2.0</td><td>1.0</td><td>1.0</td><td>0.0</td><td>0.0</td><td>0.0</td><td>0.0</td><td>0.0</td><td>0.0</td><td>0.0</td><td>0.0</td><td>0.0</td></tr><tr><td>2007</td><td>&quot;Norte&quot;</td><td>&quot;Rondônia&quot;</td><td>&quot;RO&quot;</td><td>&quot;Alta Floresta D&#x27;Oeste&quot;</td><td>3</td><td>2</td><td>0.0</td><td>0.0</td><td>null</td><td>null</td><td>null</td><td>null</td><td>null</td><td>null</td><td>null</td><td>null</td><td>null</td><td>null</td><td>null</td><td>null</td><td>14.0</td><td>0.0</td><td>0.0</td><td>0.0</td><td>14.0</td><td>14.0</td><td>0.0</td><td>0.0</td><td>0.0</td><td>0.0</td><td>0.0</td><td>0.0</td><td>0.0</td><td>0.0</td><td>0.0</td><td>0.0</td><td>&hellip;</td><td>0.0</td><td>0.0</td><td>0.0</td><td>0.0</td><td>0.0</td><td>1.0</td><td>0.0</td><td>0.0</td><td>0.0</td><td>1.0</td><td>0.0</td><td>1.0</td><td>0.0</td><td>0.0</td><td>0.0</td><td>0.0</td><td>0.0</td><td>0.0</td><td>0.0</td><td>0.0</td><td>0.0</td><td>1.0</td><td>0.0</td><td>0.0</td><td>0.0</td><td>1.0</td><td>0.0</td><td>1.0</td><td>0.0</td><td>0.0</td><td>0.0</td><td>0.0</td><td>0.0</td><td>0.0</td><td>0.0</td><td>0.0</td><td>0.0</td></tr><tr><td>2007</td><td>&quot;Norte&quot;</td><td>&quot;Rondônia&quot;</td><td>&quot;RO&quot;</td><td>&quot;Alta Floresta D&#x27;Oeste&quot;</td><td>3</td><td>2</td><td>0.0</td><td>0.0</td><td>null</td><td>null</td><td>null</td><td>null</td><td>null</td><td>null</td><td>null</td><td>null</td><td>null</td><td>null</td><td>null</td><td>null</td><td>59.0</td><td>0.0</td><td>0.0</td><td>0.0</td><td>59.0</td><td>29.0</td><td>30.0</td><td>0.0</td><td>0.0</td><td>0.0</td><td>0.0</td><td>0.0</td><td>0.0</td><td>0.0</td><td>0.0</td><td>0.0</td><td>&hellip;</td><td>0.0</td><td>30.0</td><td>0.0</td><td>30.0</td><td>0.0</td><td>9.0</td><td>0.0</td><td>0.0</td><td>0.0</td><td>9.0</td><td>0.0</td><td>9.0</td><td>0.0</td><td>0.0</td><td>0.0</td><td>0.0</td><td>0.0</td><td>0.0</td><td>0.0</td><td>0.0</td><td>0.0</td><td>6.0</td><td>0.0</td><td>0.0</td><td>0.0</td><td>6.0</td><td>0.0</td><td>6.0</td><td>0.0</td><td>0.0</td><td>0.0</td><td>0.0</td><td>0.0</td><td>0.0</td><td>0.0</td><td>0.0</td><td>0.0</td></tr><tr><td>2007</td><td>&quot;Norte&quot;</td><td>&quot;Rondônia&quot;</td><td>&quot;RO&quot;</td><td>&quot;Alta Floresta D&#x27;Oeste&quot;</td><td>3</td><td>2</td><td>0.0</td><td>0.0</td><td>null</td><td>null</td><td>null</td><td>null</td><td>null</td><td>null</td><td>null</td><td>null</td><td>null</td><td>null</td><td>null</td><td>null</td><td>10.0</td><td>0.0</td><td>0.0</td><td>0.0</td><td>10.0</td><td>10.0</td><td>0.0</td><td>0.0</td><td>0.0</td><td>0.0</td><td>0.0</td><td>0.0</td><td>0.0</td><td>0.0</td><td>0.0</td><td>0.0</td><td>&hellip;</td><td>0.0</td><td>0.0</td><td>0.0</td><td>0.0</td><td>0.0</td><td>1.0</td><td>0.0</td><td>0.0</td><td>0.0</td><td>1.0</td><td>0.0</td><td>1.0</td><td>0.0</td><td>0.0</td><td>0.0</td><td>0.0</td><td>0.0</td><td>0.0</td><td>0.0</td><td>0.0</td><td>0.0</td><td>1.0</td><td>0.0</td><td>0.0</td><td>0.0</td><td>1.0</td><td>0.0</td><td>1.0</td><td>0.0</td><td>0.0</td><td>0.0</td><td>0.0</td><td>0.0</td><td>0.0</td><td>0.0</td><td>0.0</td><td>0.0</td></tr><tr><td>2007</td><td>&quot;Norte&quot;</td><td>&quot;Rondônia&quot;</td><td>&quot;RO&quot;</td><td>&quot;Alta Floresta D&#x27;Oeste&quot;</td><td>3</td><td>2</td><td>0.0</td><td>0.0</td><td>null</td><td>null</td><td>null</td><td>null</td><td>null</td><td>null</td><td>null</td><td>null</td><td>null</td><td>null</td><td>null</td><td>null</td><td>135.0</td><td>18.0</td><td>0.0</td><td>18.0</td><td>117.0</td><td>71.0</td><td>46.0</td><td>0.0</td><td>0.0</td><td>0.0</td><td>0.0</td><td>0.0</td><td>0.0</td><td>0.0</td><td>0.0</td><td>0.0</td><td>&hellip;</td><td>0.0</td><td>46.0</td><td>0.0</td><td>46.0</td><td>0.0</td><td>8.0</td><td>1.0</td><td>0.0</td><td>1.0</td><td>8.0</td><td>4.0</td><td>5.0</td><td>0.0</td><td>0.0</td><td>0.0</td><td>0.0</td><td>0.0</td><td>0.0</td><td>0.0</td><td>0.0</td><td>0.0</td><td>9.0</td><td>1.0</td><td>0.0</td><td>1.0</td><td>8.0</td><td>4.0</td><td>4.0</td><td>0.0</td><td>0.0</td><td>0.0</td><td>0.0</td><td>0.0</td><td>0.0</td><td>0.0</td><td>0.0</td><td>0.0</td></tr><tr><td>2007</td><td>&quot;Norte&quot;</td><td>&quot;Rondônia&quot;</td><td>&quot;RO&quot;</td><td>&quot;Alta Floresta D&#x27;Oeste&quot;</td><td>3</td><td>2</td><td>0.0</td><td>0.0</td><td>null</td><td>null</td><td>null</td><td>null</td><td>null</td><td>null</td><td>null</td><td>null</td><td>null</td><td>null</td><td>null</td><td>null</td><td>11.0</td><td>0.0</td><td>0.0</td><td>0.0</td><td>11.0</td><td>11.0</td><td>0.0</td><td>0.0</td><td>0.0</td><td>0.0</td><td>0.0</td><td>0.0</td><td>0.0</td><td>0.0</td><td>0.0</td><td>0.0</td><td>&hellip;</td><td>0.0</td><td>0.0</td><td>0.0</td><td>0.0</td><td>0.0</td><td>1.0</td><td>0.0</td><td>0.0</td><td>0.0</td><td>1.0</td><td>0.0</td><td>1.0</td><td>0.0</td><td>0.0</td><td>0.0</td><td>0.0</td><td>0.0</td><td>0.0</td><td>0.0</td><td>0.0</td><td>0.0</td><td>1.0</td><td>0.0</td><td>0.0</td><td>0.0</td><td>1.0</td><td>0.0</td><td>1.0</td><td>0.0</td><td>0.0</td><td>0.0</td><td>0.0</td><td>0.0</td><td>0.0</td><td>0.0</td><td>0.0</td><td>0.0</td></tr><tr><td>2007</td><td>&quot;Norte&quot;</td><td>&quot;Rondônia&quot;</td><td>&quot;RO&quot;</td><td>&quot;Alta Floresta D&#x27;Oeste&quot;</td><td>3</td><td>2</td><td>0.0</td><td>0.0</td><td>null</td><td>null</td><td>null</td><td>null</td><td>null</td><td>null</td><td>null</td><td>null</td><td>null</td><td>null</td><td>null</td><td>null</td><td>8.0</td><td>0.0</td><td>0.0</td><td>0.0</td><td>8.0</td><td>8.0</td><td>0.0</td><td>0.0</td><td>0.0</td><td>0.0</td><td>0.0</td><td>0.0</td><td>0.0</td><td>0.0</td><td>0.0</td><td>0.0</td><td>&hellip;</td><td>0.0</td><td>0.0</td><td>0.0</td><td>0.0</td><td>0.0</td><td>1.0</td><td>0.0</td><td>0.0</td><td>0.0</td><td>1.0</td><td>0.0</td><td>1.0</td><td>0.0</td><td>0.0</td><td>0.0</td><td>0.0</td><td>0.0</td><td>0.0</td><td>0.0</td><td>0.0</td><td>0.0</td><td>1.0</td><td>0.0</td><td>0.0</td><td>0.0</td><td>1.0</td><td>0.0</td><td>1.0</td><td>0.0</td><td>0.0</td><td>0.0</td><td>0.0</td><td>0.0</td><td>0.0</td><td>0.0</td><td>0.0</td><td>0.0</td></tr><tr><td>2007</td><td>&quot;Norte&quot;</td><td>&quot;Rondônia&quot;</td><td>&quot;RO&quot;</td><td>&quot;Alta Floresta D&#x27;Oeste&quot;</td><td>3</td><td>2</td><td>0.0</td><td>0.0</td><td>null</td><td>null</td><td>null</td><td>null</td><td>null</td><td>null</td><td>null</td><td>null</td><td>null</td><td>null</td><td>null</td><td>null</td><td>8.0</td><td>0.0</td><td>0.0</td><td>0.0</td><td>8.0</td><td>8.0</td><td>0.0</td><td>0.0</td><td>0.0</td><td>0.0</td><td>0.0</td><td>0.0</td><td>0.0</td><td>0.0</td><td>0.0</td><td>0.0</td><td>&hellip;</td><td>0.0</td><td>0.0</td><td>0.0</td><td>0.0</td><td>0.0</td><td>1.0</td><td>0.0</td><td>0.0</td><td>0.0</td><td>1.0</td><td>0.0</td><td>1.0</td><td>0.0</td><td>0.0</td><td>0.0</td><td>0.0</td><td>0.0</td><td>0.0</td><td>0.0</td><td>0.0</td><td>0.0</td><td>1.0</td><td>0.0</td><td>0.0</td><td>0.0</td><td>1.0</td><td>0.0</td><td>1.0</td><td>0.0</td><td>0.0</td><td>0.0</td><td>0.0</td><td>0.0</td><td>0.0</td><td>0.0</td><td>0.0</td><td>0.0</td></tr></tbody></table></div>"
      ]
     },
     "execution_count": 8,
     "metadata": {},
     "output_type": "execute_result"
    }
   ],
   "execution_count": 8
  },
  {
   "metadata": {
    "ExecuteTime": {
     "end_time": "2024-10-07T03:47:03.902022Z",
     "start_time": "2024-10-07T03:47:03.833993Z"
    }
   },
   "cell_type": "code",
   "source": [
    "missing_values = df.select([pl.col(col).is_null().sum().alias(col) for col in colunas])\n",
    "print(missing_values)\n"
   ],
   "id": "809eeade173226d4",
   "outputs": [
    {
     "name": "stdout",
     "output_type": "stream",
     "text": [
      "shape: (1, 93)\n",
      "┌─────────────┬───────────┬───────┬───────┬───┬─────────────┬────────────┬────────────┬────────────┐\n",
      "│ NU_ANO_CENS ┆ NO_REGIAO ┆ NO_UF ┆ SG_UF ┆ … ┆ QT_TUR_EJA_ ┆ QT_TUR_ESP ┆ QT_TUR_ESP ┆ QT_TUR_ESP │\n",
      "│ O           ┆ ---       ┆ ---   ┆ ---   ┆   ┆ MED         ┆ ---        ┆ _CC        ┆ _CE        │\n",
      "│ ---         ┆ u32       ┆ u32   ┆ u32   ┆   ┆ ---         ┆ u32        ┆ ---        ┆ ---        │\n",
      "│ u32         ┆           ┆       ┆       ┆   ┆ u32         ┆            ┆ u32        ┆ u32        │\n",
      "╞═════════════╪═══════════╪═══════╪═══════╪═══╪═════════════╪════════════╪════════════╪════════════╡\n",
      "│ 0           ┆ 0         ┆ 0     ┆ 0     ┆ … ┆ 85562       ┆ 85562      ┆ 85562      ┆ 85562      │\n",
      "└─────────────┴───────────┴───────┴───────┴───┴─────────────┴────────────┴────────────┴────────────┘\n"
     ]
    }
   ],
   "execution_count": 25
  },
  {
   "metadata": {
    "ExecuteTime": {
     "end_time": "2024-10-07T03:47:22.677949Z",
     "start_time": "2024-10-07T03:47:22.664445Z"
    }
   },
   "cell_type": "code",
   "source": "",
   "id": "546e580a4f5e7937",
   "outputs": [],
   "execution_count": null
  },
  {
   "cell_type": "code",
   "execution_count": 19,
   "id": "4d15b5fcf03bf3c0",
   "metadata": {
    "ExecuteTime": {
     "end_time": "2024-09-27T19:49:48.601224Z",
     "start_time": "2024-09-27T19:49:48.594136Z"
    }
   },
   "outputs": [
    {
     "data": {
      "text/plain": [
       "NU_ANO_CENSO            int64\n",
       "NO_REGIAO              object\n",
       "CO_REGIAO               int64\n",
       "NO_UF                  object\n",
       "SG_UF                  object\n",
       "                       ...   \n",
       "QT_TUR_INF_PRE_INT    float64\n",
       "QT_TUR_FUND_INT       float64\n",
       "QT_TUR_FUND_AI_INT    float64\n",
       "QT_TUR_FUND_AF_INT    float64\n",
       "QT_TUR_MED_INT        float64\n",
       "Length: 408, dtype: object"
      ]
     },
     "execution_count": 19,
     "metadata": {},
     "output_type": "execute_result"
    }
   ],
   "source": [
    "df.dtypes"
   ]
  },
  {
   "cell_type": "code",
   "execution_count": 30,
   "id": "2819034783408178",
   "metadata": {
    "ExecuteTime": {
     "end_time": "2024-09-27T19:51:46.236965Z",
     "start_time": "2024-09-27T19:51:46.221998Z"
    }
   },
   "outputs": [
    {
     "ename": "ColumnNotFoundError",
     "evalue": "unable to find column \"like\"; valid columns: [\"NU_ANO_CENSO\", \"NO_REGIAO\", \"NO_UF\", \"SG_UF\", \"NO_MUNICIPIO\", \"TP_DEPENDENCIA\", \"TP_LOCALIZACAO\", \"IN_LABORATORIO_CIENCIAS\", \"IN_LABORATORIO_INFORMATICA\", \"IN_ACESSO_INTERNET_COMPUTADOR\", \"IN_BANDA_LARGA\", \"IN_PROF_PSICOLOGO\", \"QT_PROF_PSICOLOGO\", \"IN_PROF_PEDAGOGIA\", \"QT_PROF_PEDAGOGIA\", \"IN_PROF_SECRETARIO\", \"QT_PROF_SECRETARIO\", \"IN_PROF_MONITORES\", \"QT_PROF_MONITORES\", \"IN_PROF_ASSIST_SOCIAL\", \"QT_PROF_ASSIST_SOCIAL\", \"QT_MAT_BAS\", \"QT_MAT_INF\", \"QT_MAT_INF_CRE\", \"QT_MAT_INF_PRE\", \"QT_MAT_FUND\", \"QT_MAT_FUND_AI\", \"QT_MAT_FUND_AF\", \"QT_MAT_MED\", \"QT_MAT_PROF\", \"QT_MAT_PROF_TEC\", \"QT_MAT_EJA\", \"QT_MAT_EJA_FUND\", \"QT_MAT_EJA_MED\", \"QT_MAT_ESP\", \"QT_MAT_ESP_CC\", \"QT_MAT_ESP_CE\", \"QT_MAT_BAS_FEM\", \"QT_MAT_BAS_MASC\", \"QT_MAT_BAS_ND\", \"QT_MAT_BAS_BRANCA\", \"QT_MAT_BAS_PRETA\", \"QT_MAT_BAS_PARDA\", \"QT_MAT_BAS_AMARELA\", \"QT_MAT_BAS_INDIGENA\", \"QT_MAT_BAS_0_3\", \"QT_MAT_BAS_4_5\", \"QT_MAT_BAS_6_10\", \"QT_MAT_BAS_11_14\", \"QT_MAT_BAS_15_17\", \"QT_MAT_BAS_18_MAIS\", \"QT_MAT_BAS_D\", \"QT_MAT_BAS_N\", \"QT_MAT_BAS_EAD\", \"QT_MAT_INF_INT\", \"QT_MAT_INF_CRE_INT\", \"QT_MAT_INF_PRE_INT\", \"QT_MAT_FUND_INT\", \"QT_MAT_FUND_AI_INT\", \"QT_MAT_FUND_AF_INT\", \"QT_MAT_MED_INT\", \"QT_DOC_BAS\", \"QT_DOC_INF\", \"QT_DOC_INF_CRE\", \"QT_DOC_INF_PRE\", \"QT_DOC_FUND\", \"QT_DOC_FUND_AI\", \"QT_DOC_FUND_AF\", \"QT_DOC_MED\", \"QT_DOC_PROF\", \"QT_DOC_PROF_TEC\", \"QT_DOC_EJA\", \"QT_DOC_EJA_FUND\", \"QT_DOC_EJA_MED\", \"QT_DOC_ESP\", \"QT_DOC_ESP_CC\", \"QT_DOC_ESP_CE\", \"QT_TUR_BAS\", \"QT_TUR_INF\", \"QT_TUR_INF_CRE\", \"QT_TUR_INF_PRE\", \"QT_TUR_FUND\", \"QT_TUR_FUND_AI\", \"QT_TUR_FUND_AF\", \"QT_TUR_MED\", \"QT_TUR_PROF\", \"QT_TUR_PROF_TEC\", \"QT_TUR_EJA\", \"QT_TUR_EJA_FUND\", \"QT_TUR_EJA_MED\", \"QT_TUR_ESP\", \"QT_TUR_ESP_CC\", \"QT_TUR_ESP_CE\"]\n\nResolved plan until failure:\n\n\t---> FAILED HERE RESOLVING 'filter' <---\nDF [\"NU_ANO_CENSO\", \"NO_REGIAO\", \"NO_UF\", \"SG_UF\"]; PROJECT */93 COLUMNS; SELECTION: None",
     "output_type": "error",
     "traceback": [
      "\u001B[1;31m---------------------------------------------------------------------------\u001B[0m",
      "\u001B[1;31mColumnNotFoundError\u001B[0m                       Traceback (most recent call last)",
      "Cell \u001B[1;32mIn[30], line 1\u001B[0m\n\u001B[1;32m----> 1\u001B[0m \u001B[43mdf\u001B[49m\u001B[38;5;241;43m.\u001B[39;49m\u001B[43mfilter\u001B[49m\u001B[43m(\u001B[49m\u001B[43mlike\u001B[49m\u001B[38;5;241;43m=\u001B[39;49m\u001B[38;5;124;43m'\u001B[39;49m\u001B[38;5;124;43mDT\u001B[39;49m\u001B[38;5;124;43m'\u001B[39;49m\u001B[43m)\u001B[49m\n",
      "File \u001B[1;32m~\\PycharmProjects\\censo_escolar\\venv\\Lib\\site-packages\\polars\\dataframe\\frame.py:4755\u001B[0m, in \u001B[0;36mDataFrame.filter\u001B[1;34m(self, *predicates, **constraints)\u001B[0m\n\u001B[0;32m   4601\u001B[0m \u001B[38;5;28;01mdef\u001B[39;00m \u001B[38;5;21mfilter\u001B[39m(\n\u001B[0;32m   4602\u001B[0m     \u001B[38;5;28mself\u001B[39m,\n\u001B[0;32m   4603\u001B[0m     \u001B[38;5;241m*\u001B[39mpredicates: (\n\u001B[1;32m   (...)\u001B[0m\n\u001B[0;32m   4610\u001B[0m     \u001B[38;5;241m*\u001B[39m\u001B[38;5;241m*\u001B[39mconstraints: Any,\n\u001B[0;32m   4611\u001B[0m ) \u001B[38;5;241m-\u001B[39m\u001B[38;5;241m>\u001B[39m DataFrame:\n\u001B[0;32m   4612\u001B[0m \u001B[38;5;250m    \u001B[39m\u001B[38;5;124;03m\"\"\"\u001B[39;00m\n\u001B[0;32m   4613\u001B[0m \u001B[38;5;124;03m    Filter the rows in the DataFrame based on one or more predicate expressions.\u001B[39;00m\n\u001B[0;32m   4614\u001B[0m \n\u001B[1;32m   (...)\u001B[0m\n\u001B[0;32m   4753\u001B[0m \n\u001B[0;32m   4754\u001B[0m \u001B[38;5;124;03m    \"\"\"\u001B[39;00m\n\u001B[1;32m-> 4755\u001B[0m     \u001B[38;5;28;01mreturn\u001B[39;00m \u001B[38;5;28;43mself\u001B[39;49m\u001B[38;5;241;43m.\u001B[39;49m\u001B[43mlazy\u001B[49m\u001B[43m(\u001B[49m\u001B[43m)\u001B[49m\u001B[38;5;241;43m.\u001B[39;49m\u001B[43mfilter\u001B[49m\u001B[43m(\u001B[49m\u001B[38;5;241;43m*\u001B[39;49m\u001B[43mpredicates\u001B[49m\u001B[43m,\u001B[49m\u001B[43m \u001B[49m\u001B[38;5;241;43m*\u001B[39;49m\u001B[38;5;241;43m*\u001B[39;49m\u001B[43mconstraints\u001B[49m\u001B[43m)\u001B[49m\u001B[38;5;241;43m.\u001B[39;49m\u001B[43mcollect\u001B[49m\u001B[43m(\u001B[49m\u001B[43m_eager\u001B[49m\u001B[38;5;241;43m=\u001B[39;49m\u001B[38;5;28;43;01mTrue\u001B[39;49;00m\u001B[43m)\u001B[49m\n",
      "File \u001B[1;32m~\\PycharmProjects\\censo_escolar\\venv\\Lib\\site-packages\\polars\\lazyframe\\frame.py:2050\u001B[0m, in \u001B[0;36mLazyFrame.collect\u001B[1;34m(self, type_coercion, predicate_pushdown, projection_pushdown, simplify_expression, slice_pushdown, comm_subplan_elim, comm_subexpr_elim, cluster_with_columns, collapse_joins, no_optimization, streaming, engine, background, _eager, **_kwargs)\u001B[0m\n\u001B[0;32m   2048\u001B[0m \u001B[38;5;66;03m# Only for testing purposes\u001B[39;00m\n\u001B[0;32m   2049\u001B[0m callback \u001B[38;5;241m=\u001B[39m _kwargs\u001B[38;5;241m.\u001B[39mget(\u001B[38;5;124m\"\u001B[39m\u001B[38;5;124mpost_opt_callback\u001B[39m\u001B[38;5;124m\"\u001B[39m, callback)\n\u001B[1;32m-> 2050\u001B[0m \u001B[38;5;28;01mreturn\u001B[39;00m wrap_df(\u001B[43mldf\u001B[49m\u001B[38;5;241;43m.\u001B[39;49m\u001B[43mcollect\u001B[49m\u001B[43m(\u001B[49m\u001B[43mcallback\u001B[49m\u001B[43m)\u001B[49m)\n",
      "\u001B[1;31mColumnNotFoundError\u001B[0m: unable to find column \"like\"; valid columns: [\"NU_ANO_CENSO\", \"NO_REGIAO\", \"NO_UF\", \"SG_UF\", \"NO_MUNICIPIO\", \"TP_DEPENDENCIA\", \"TP_LOCALIZACAO\", \"IN_LABORATORIO_CIENCIAS\", \"IN_LABORATORIO_INFORMATICA\", \"IN_ACESSO_INTERNET_COMPUTADOR\", \"IN_BANDA_LARGA\", \"IN_PROF_PSICOLOGO\", \"QT_PROF_PSICOLOGO\", \"IN_PROF_PEDAGOGIA\", \"QT_PROF_PEDAGOGIA\", \"IN_PROF_SECRETARIO\", \"QT_PROF_SECRETARIO\", \"IN_PROF_MONITORES\", \"QT_PROF_MONITORES\", \"IN_PROF_ASSIST_SOCIAL\", \"QT_PROF_ASSIST_SOCIAL\", \"QT_MAT_BAS\", \"QT_MAT_INF\", \"QT_MAT_INF_CRE\", \"QT_MAT_INF_PRE\", \"QT_MAT_FUND\", \"QT_MAT_FUND_AI\", \"QT_MAT_FUND_AF\", \"QT_MAT_MED\", \"QT_MAT_PROF\", \"QT_MAT_PROF_TEC\", \"QT_MAT_EJA\", \"QT_MAT_EJA_FUND\", \"QT_MAT_EJA_MED\", \"QT_MAT_ESP\", \"QT_MAT_ESP_CC\", \"QT_MAT_ESP_CE\", \"QT_MAT_BAS_FEM\", \"QT_MAT_BAS_MASC\", \"QT_MAT_BAS_ND\", \"QT_MAT_BAS_BRANCA\", \"QT_MAT_BAS_PRETA\", \"QT_MAT_BAS_PARDA\", \"QT_MAT_BAS_AMARELA\", \"QT_MAT_BAS_INDIGENA\", \"QT_MAT_BAS_0_3\", \"QT_MAT_BAS_4_5\", \"QT_MAT_BAS_6_10\", \"QT_MAT_BAS_11_14\", \"QT_MAT_BAS_15_17\", \"QT_MAT_BAS_18_MAIS\", \"QT_MAT_BAS_D\", \"QT_MAT_BAS_N\", \"QT_MAT_BAS_EAD\", \"QT_MAT_INF_INT\", \"QT_MAT_INF_CRE_INT\", \"QT_MAT_INF_PRE_INT\", \"QT_MAT_FUND_INT\", \"QT_MAT_FUND_AI_INT\", \"QT_MAT_FUND_AF_INT\", \"QT_MAT_MED_INT\", \"QT_DOC_BAS\", \"QT_DOC_INF\", \"QT_DOC_INF_CRE\", \"QT_DOC_INF_PRE\", \"QT_DOC_FUND\", \"QT_DOC_FUND_AI\", \"QT_DOC_FUND_AF\", \"QT_DOC_MED\", \"QT_DOC_PROF\", \"QT_DOC_PROF_TEC\", \"QT_DOC_EJA\", \"QT_DOC_EJA_FUND\", \"QT_DOC_EJA_MED\", \"QT_DOC_ESP\", \"QT_DOC_ESP_CC\", \"QT_DOC_ESP_CE\", \"QT_TUR_BAS\", \"QT_TUR_INF\", \"QT_TUR_INF_CRE\", \"QT_TUR_INF_PRE\", \"QT_TUR_FUND\", \"QT_TUR_FUND_AI\", \"QT_TUR_FUND_AF\", \"QT_TUR_MED\", \"QT_TUR_PROF\", \"QT_TUR_PROF_TEC\", \"QT_TUR_EJA\", \"QT_TUR_EJA_FUND\", \"QT_TUR_EJA_MED\", \"QT_TUR_ESP\", \"QT_TUR_ESP_CC\", \"QT_TUR_ESP_CE\"]\n\nResolved plan until failure:\n\n\t---> FAILED HERE RESOLVING 'filter' <---\nDF [\"NU_ANO_CENSO\", \"NO_REGIAO\", \"NO_UF\", \"SG_UF\"]; PROJECT */93 COLUMNS; SELECTION: None"
     ]
    }
   ],
   "source": [
    "df.filter(like='DT')"
   ]
  },
  {
   "cell_type": "code",
   "execution_count": 15,
   "id": "ea26442115fb0153",
   "metadata": {
    "ExecuteTime": {
     "end_time": "2024-10-04T18:44:17.630065Z",
     "start_time": "2024-10-04T18:44:17.560411Z"
    }
   },
   "outputs": [
    {
     "data": {
      "text/html": [
       "<div>\n",
       "<style scoped>\n",
       "    .dataframe tbody tr th:only-of-type {\n",
       "        vertical-align: middle;\n",
       "    }\n",
       "\n",
       "    .dataframe tbody tr th {\n",
       "        vertical-align: top;\n",
       "    }\n",
       "\n",
       "    .dataframe thead th {\n",
       "        text-align: right;\n",
       "    }\n",
       "</style>\n",
       "<table border=\"1\" class=\"dataframe\">\n",
       "  <thead>\n",
       "    <tr style=\"text-align: right;\">\n",
       "      <th></th>\n",
       "      <th>QT_SALAS_UTILIZADAS_DENTRO</th>\n",
       "      <th>QT_SALAS_UTILIZADAS_FORA</th>\n",
       "      <th>QT_SALAS_UTILIZADAS</th>\n",
       "      <th>QT_SALAS_UTILIZA_CLIMATIZADAS</th>\n",
       "      <th>QT_SALAS_UTILIZADAS_ACESSIVEIS</th>\n",
       "      <th>QT_EQUIP_DVD</th>\n",
       "      <th>QT_EQUIP_SOM</th>\n",
       "      <th>QT_EQUIP_TV</th>\n",
       "      <th>QT_EQUIP_LOUSA_DIGITAL</th>\n",
       "      <th>QT_EQUIP_MULTIMIDIA</th>\n",
       "      <th>...</th>\n",
       "      <th>QT_TUR_BAS_D</th>\n",
       "      <th>QT_TUR_BAS_N</th>\n",
       "      <th>QT_TUR_BAS_EAD</th>\n",
       "      <th>QT_TUR_INF_INT</th>\n",
       "      <th>QT_TUR_INF_CRE_INT</th>\n",
       "      <th>QT_TUR_INF_PRE_INT</th>\n",
       "      <th>QT_TUR_FUND_INT</th>\n",
       "      <th>QT_TUR_FUND_AI_INT</th>\n",
       "      <th>QT_TUR_FUND_AF_INT</th>\n",
       "      <th>QT_TUR_MED_INT</th>\n",
       "    </tr>\n",
       "  </thead>\n",
       "  <tbody>\n",
       "    <tr>\n",
       "      <th>0</th>\n",
       "      <td>7.0</td>\n",
       "      <td>0.0</td>\n",
       "      <td>7.0</td>\n",
       "      <td>7.0</td>\n",
       "      <td>0.0</td>\n",
       "      <td>1.0</td>\n",
       "      <td>2.0</td>\n",
       "      <td>3.0</td>\n",
       "      <td>0.0</td>\n",
       "      <td>3.0</td>\n",
       "      <td>...</td>\n",
       "      <td>14.0</td>\n",
       "      <td>0.0</td>\n",
       "      <td>0.0</td>\n",
       "      <td>0.0</td>\n",
       "      <td>0.0</td>\n",
       "      <td>0.0</td>\n",
       "      <td>1.0</td>\n",
       "      <td>1.0</td>\n",
       "      <td>0.0</td>\n",
       "      <td>0.0</td>\n",
       "    </tr>\n",
       "    <tr>\n",
       "      <th>1</th>\n",
       "      <td>6.0</td>\n",
       "      <td>0.0</td>\n",
       "      <td>6.0</td>\n",
       "      <td>6.0</td>\n",
       "      <td>6.0</td>\n",
       "      <td>0.0</td>\n",
       "      <td>1.0</td>\n",
       "      <td>6.0</td>\n",
       "      <td>0.0</td>\n",
       "      <td>0.0</td>\n",
       "      <td>...</td>\n",
       "      <td>12.0</td>\n",
       "      <td>0.0</td>\n",
       "      <td>0.0</td>\n",
       "      <td>0.0</td>\n",
       "      <td>0.0</td>\n",
       "      <td>0.0</td>\n",
       "      <td>0.0</td>\n",
       "      <td>0.0</td>\n",
       "      <td>0.0</td>\n",
       "      <td>0.0</td>\n",
       "    </tr>\n",
       "    <tr>\n",
       "      <th>2</th>\n",
       "      <td>42.0</td>\n",
       "      <td>0.0</td>\n",
       "      <td>42.0</td>\n",
       "      <td>42.0</td>\n",
       "      <td>42.0</td>\n",
       "      <td>0.0</td>\n",
       "      <td>4.0</td>\n",
       "      <td>3.0</td>\n",
       "      <td>0.0</td>\n",
       "      <td>16.0</td>\n",
       "      <td>...</td>\n",
       "      <td>38.0</td>\n",
       "      <td>0.0</td>\n",
       "      <td>0.0</td>\n",
       "      <td>0.0</td>\n",
       "      <td>0.0</td>\n",
       "      <td>0.0</td>\n",
       "      <td>0.0</td>\n",
       "      <td>0.0</td>\n",
       "      <td>0.0</td>\n",
       "      <td>0.0</td>\n",
       "    </tr>\n",
       "    <tr>\n",
       "      <th>3</th>\n",
       "      <td>0.0</td>\n",
       "      <td>1.0</td>\n",
       "      <td>1.0</td>\n",
       "      <td>0.0</td>\n",
       "      <td>0.0</td>\n",
       "      <td>1.0</td>\n",
       "      <td>2.0</td>\n",
       "      <td>1.0</td>\n",
       "      <td>0.0</td>\n",
       "      <td>1.0</td>\n",
       "      <td>...</td>\n",
       "      <td>5.0</td>\n",
       "      <td>0.0</td>\n",
       "      <td>0.0</td>\n",
       "      <td>0.0</td>\n",
       "      <td>0.0</td>\n",
       "      <td>0.0</td>\n",
       "      <td>0.0</td>\n",
       "      <td>0.0</td>\n",
       "      <td>0.0</td>\n",
       "      <td>0.0</td>\n",
       "    </tr>\n",
       "    <tr>\n",
       "      <th>4</th>\n",
       "      <td>15.0</td>\n",
       "      <td>0.0</td>\n",
       "      <td>15.0</td>\n",
       "      <td>15.0</td>\n",
       "      <td>13.0</td>\n",
       "      <td>1.0</td>\n",
       "      <td>2.0</td>\n",
       "      <td>5.0</td>\n",
       "      <td>0.0</td>\n",
       "      <td>1.0</td>\n",
       "      <td>...</td>\n",
       "      <td>27.0</td>\n",
       "      <td>0.0</td>\n",
       "      <td>0.0</td>\n",
       "      <td>0.0</td>\n",
       "      <td>0.0</td>\n",
       "      <td>0.0</td>\n",
       "      <td>0.0</td>\n",
       "      <td>0.0</td>\n",
       "      <td>0.0</td>\n",
       "      <td>0.0</td>\n",
       "    </tr>\n",
       "  </tbody>\n",
       "</table>\n",
       "<p>5 rows × 152 columns</p>\n",
       "</div>"
      ],
      "text/plain": [
       "   QT_SALAS_UTILIZADAS_DENTRO  QT_SALAS_UTILIZADAS_FORA  QT_SALAS_UTILIZADAS  \\\n",
       "0                         7.0                       0.0                  7.0   \n",
       "1                         6.0                       0.0                  6.0   \n",
       "2                        42.0                       0.0                 42.0   \n",
       "3                         0.0                       1.0                  1.0   \n",
       "4                        15.0                       0.0                 15.0   \n",
       "\n",
       "   QT_SALAS_UTILIZA_CLIMATIZADAS  QT_SALAS_UTILIZADAS_ACESSIVEIS  \\\n",
       "0                            7.0                             0.0   \n",
       "1                            6.0                             6.0   \n",
       "2                           42.0                            42.0   \n",
       "3                            0.0                             0.0   \n",
       "4                           15.0                            13.0   \n",
       "\n",
       "   QT_EQUIP_DVD  QT_EQUIP_SOM  QT_EQUIP_TV  QT_EQUIP_LOUSA_DIGITAL  \\\n",
       "0           1.0           2.0          3.0                     0.0   \n",
       "1           0.0           1.0          6.0                     0.0   \n",
       "2           0.0           4.0          3.0                     0.0   \n",
       "3           1.0           2.0          1.0                     0.0   \n",
       "4           1.0           2.0          5.0                     0.0   \n",
       "\n",
       "   QT_EQUIP_MULTIMIDIA  ...  QT_TUR_BAS_D  QT_TUR_BAS_N  QT_TUR_BAS_EAD  \\\n",
       "0                  3.0  ...          14.0           0.0             0.0   \n",
       "1                  0.0  ...          12.0           0.0             0.0   \n",
       "2                 16.0  ...          38.0           0.0             0.0   \n",
       "3                  1.0  ...           5.0           0.0             0.0   \n",
       "4                  1.0  ...          27.0           0.0             0.0   \n",
       "\n",
       "   QT_TUR_INF_INT  QT_TUR_INF_CRE_INT  QT_TUR_INF_PRE_INT  QT_TUR_FUND_INT  \\\n",
       "0             0.0                 0.0                 0.0              1.0   \n",
       "1             0.0                 0.0                 0.0              0.0   \n",
       "2             0.0                 0.0                 0.0              0.0   \n",
       "3             0.0                 0.0                 0.0              0.0   \n",
       "4             0.0                 0.0                 0.0              0.0   \n",
       "\n",
       "   QT_TUR_FUND_AI_INT  QT_TUR_FUND_AF_INT  QT_TUR_MED_INT  \n",
       "0                 1.0                 0.0             0.0  \n",
       "1                 0.0                 0.0             0.0  \n",
       "2                 0.0                 0.0             0.0  \n",
       "3                 0.0                 0.0             0.0  \n",
       "4                 0.0                 0.0             0.0  \n",
       "\n",
       "[5 rows x 152 columns]"
      ]
     },
     "execution_count": 15,
     "metadata": {},
     "output_type": "execute_result"
    }
   ],
   "source": [
    "df.filter(like=\"QT\").head()"
   ]
  },
  {
   "cell_type": "code",
   "execution_count": 20,
   "id": "676373ce8675e3c8",
   "metadata": {
    "ExecuteTime": {
     "end_time": "2024-10-04T18:46:02.820534Z",
     "start_time": "2024-10-04T18:46:02.707062Z"
    }
   },
   "outputs": [
    {
     "data": {
      "text/html": [
       "<div>\n",
       "<style scoped>\n",
       "    .dataframe tbody tr th:only-of-type {\n",
       "        vertical-align: middle;\n",
       "    }\n",
       "\n",
       "    .dataframe tbody tr th {\n",
       "        vertical-align: top;\n",
       "    }\n",
       "\n",
       "    .dataframe thead th {\n",
       "        text-align: right;\n",
       "    }\n",
       "</style>\n",
       "<table border=\"1\" class=\"dataframe\">\n",
       "  <thead>\n",
       "    <tr style=\"text-align: right;\">\n",
       "      <th></th>\n",
       "      <th>NO_REGIAO_GEOG_INTERM</th>\n",
       "      <th>CO_REGIAO_GEOG_INTERM</th>\n",
       "      <th>DT_ANO_LETIVO_INICIO</th>\n",
       "      <th>DT_ANO_LETIVO_TERMINO</th>\n",
       "      <th>IN_VINCULO_SECRETARIA_EDUCACAO</th>\n",
       "      <th>IN_VINCULO_SEGURANCA_PUBLICA</th>\n",
       "      <th>IN_VINCULO_SECRETARIA_SAUDE</th>\n",
       "      <th>IN_VINCULO_OUTRO_ORGAO</th>\n",
       "      <th>IN_PODER_PUBLICO_PARCERIA</th>\n",
       "      <th>IN_FORMA_CONT_TERMO_COLABORA</th>\n",
       "      <th>...</th>\n",
       "      <th>QT_TUR_INF</th>\n",
       "      <th>QT_TUR_INF_CRE</th>\n",
       "      <th>QT_TUR_INF_PRE</th>\n",
       "      <th>QT_TUR_INF_INT</th>\n",
       "      <th>QT_TUR_INF_CRE_INT</th>\n",
       "      <th>QT_TUR_INF_PRE_INT</th>\n",
       "      <th>QT_TUR_FUND_INT</th>\n",
       "      <th>QT_TUR_FUND_AI_INT</th>\n",
       "      <th>QT_TUR_FUND_AF_INT</th>\n",
       "      <th>QT_TUR_MED_INT</th>\n",
       "    </tr>\n",
       "  </thead>\n",
       "  <tbody>\n",
       "    <tr>\n",
       "      <th>0</th>\n",
       "      <td>Porto Velho</td>\n",
       "      <td>1101</td>\n",
       "      <td>06FEB23:00:00:00</td>\n",
       "      <td>12DEC23:00:00:00</td>\n",
       "      <td>1.0</td>\n",
       "      <td>0.0</td>\n",
       "      <td>0.0</td>\n",
       "      <td>0.0</td>\n",
       "      <td>0.0</td>\n",
       "      <td>NaN</td>\n",
       "      <td>...</td>\n",
       "      <td>0.0</td>\n",
       "      <td>0.0</td>\n",
       "      <td>0.0</td>\n",
       "      <td>0.0</td>\n",
       "      <td>0.0</td>\n",
       "      <td>0.0</td>\n",
       "      <td>1.0</td>\n",
       "      <td>1.0</td>\n",
       "      <td>0.0</td>\n",
       "      <td>0.0</td>\n",
       "    </tr>\n",
       "    <tr>\n",
       "      <th>1</th>\n",
       "      <td>Porto Velho</td>\n",
       "      <td>1101</td>\n",
       "      <td>08FEB23:00:00:00</td>\n",
       "      <td>20DEC23:00:00:00</td>\n",
       "      <td>1.0</td>\n",
       "      <td>0.0</td>\n",
       "      <td>0.0</td>\n",
       "      <td>0.0</td>\n",
       "      <td>0.0</td>\n",
       "      <td>NaN</td>\n",
       "      <td>...</td>\n",
       "      <td>12.0</td>\n",
       "      <td>0.0</td>\n",
       "      <td>12.0</td>\n",
       "      <td>0.0</td>\n",
       "      <td>0.0</td>\n",
       "      <td>0.0</td>\n",
       "      <td>0.0</td>\n",
       "      <td>0.0</td>\n",
       "      <td>0.0</td>\n",
       "      <td>0.0</td>\n",
       "    </tr>\n",
       "    <tr>\n",
       "      <th>2</th>\n",
       "      <td>Porto Velho</td>\n",
       "      <td>1101</td>\n",
       "      <td>06FEB23:00:00:00</td>\n",
       "      <td>15DEC23:00:00:00</td>\n",
       "      <td>NaN</td>\n",
       "      <td>NaN</td>\n",
       "      <td>NaN</td>\n",
       "      <td>NaN</td>\n",
       "      <td>0.0</td>\n",
       "      <td>NaN</td>\n",
       "      <td>...</td>\n",
       "      <td>3.0</td>\n",
       "      <td>0.0</td>\n",
       "      <td>3.0</td>\n",
       "      <td>0.0</td>\n",
       "      <td>0.0</td>\n",
       "      <td>0.0</td>\n",
       "      <td>0.0</td>\n",
       "      <td>0.0</td>\n",
       "      <td>0.0</td>\n",
       "      <td>0.0</td>\n",
       "    </tr>\n",
       "    <tr>\n",
       "      <th>3</th>\n",
       "      <td>Porto Velho</td>\n",
       "      <td>1101</td>\n",
       "      <td>07FEB23:00:00:00</td>\n",
       "      <td>15DEC23:00:00:00</td>\n",
       "      <td>NaN</td>\n",
       "      <td>NaN</td>\n",
       "      <td>NaN</td>\n",
       "      <td>NaN</td>\n",
       "      <td>0.0</td>\n",
       "      <td>NaN</td>\n",
       "      <td>...</td>\n",
       "      <td>2.0</td>\n",
       "      <td>1.0</td>\n",
       "      <td>1.0</td>\n",
       "      <td>0.0</td>\n",
       "      <td>0.0</td>\n",
       "      <td>0.0</td>\n",
       "      <td>0.0</td>\n",
       "      <td>0.0</td>\n",
       "      <td>0.0</td>\n",
       "      <td>0.0</td>\n",
       "    </tr>\n",
       "    <tr>\n",
       "      <th>4</th>\n",
       "      <td>Porto Velho</td>\n",
       "      <td>1101</td>\n",
       "      <td>30JAN23:00:00:00</td>\n",
       "      <td>14DEC23:00:00:00</td>\n",
       "      <td>NaN</td>\n",
       "      <td>NaN</td>\n",
       "      <td>NaN</td>\n",
       "      <td>NaN</td>\n",
       "      <td>0.0</td>\n",
       "      <td>NaN</td>\n",
       "      <td>...</td>\n",
       "      <td>5.0</td>\n",
       "      <td>1.0</td>\n",
       "      <td>4.0</td>\n",
       "      <td>0.0</td>\n",
       "      <td>0.0</td>\n",
       "      <td>0.0</td>\n",
       "      <td>0.0</td>\n",
       "      <td>0.0</td>\n",
       "      <td>0.0</td>\n",
       "      <td>0.0</td>\n",
       "    </tr>\n",
       "  </tbody>\n",
       "</table>\n",
       "<p>5 rows × 239 columns</p>\n",
       "</div>"
      ],
      "text/plain": [
       "  NO_REGIAO_GEOG_INTERM  CO_REGIAO_GEOG_INTERM DT_ANO_LETIVO_INICIO  \\\n",
       "0           Porto Velho                   1101     06FEB23:00:00:00   \n",
       "1           Porto Velho                   1101     08FEB23:00:00:00   \n",
       "2           Porto Velho                   1101     06FEB23:00:00:00   \n",
       "3           Porto Velho                   1101     07FEB23:00:00:00   \n",
       "4           Porto Velho                   1101     30JAN23:00:00:00   \n",
       "\n",
       "  DT_ANO_LETIVO_TERMINO  IN_VINCULO_SECRETARIA_EDUCACAO  \\\n",
       "0      12DEC23:00:00:00                             1.0   \n",
       "1      20DEC23:00:00:00                             1.0   \n",
       "2      15DEC23:00:00:00                             NaN   \n",
       "3      15DEC23:00:00:00                             NaN   \n",
       "4      14DEC23:00:00:00                             NaN   \n",
       "\n",
       "   IN_VINCULO_SEGURANCA_PUBLICA  IN_VINCULO_SECRETARIA_SAUDE  \\\n",
       "0                           0.0                          0.0   \n",
       "1                           0.0                          0.0   \n",
       "2                           NaN                          NaN   \n",
       "3                           NaN                          NaN   \n",
       "4                           NaN                          NaN   \n",
       "\n",
       "   IN_VINCULO_OUTRO_ORGAO  IN_PODER_PUBLICO_PARCERIA  \\\n",
       "0                     0.0                        0.0   \n",
       "1                     0.0                        0.0   \n",
       "2                     NaN                        0.0   \n",
       "3                     NaN                        0.0   \n",
       "4                     NaN                        0.0   \n",
       "\n",
       "   IN_FORMA_CONT_TERMO_COLABORA  ...  QT_TUR_INF  QT_TUR_INF_CRE  \\\n",
       "0                           NaN  ...         0.0             0.0   \n",
       "1                           NaN  ...        12.0             0.0   \n",
       "2                           NaN  ...         3.0             0.0   \n",
       "3                           NaN  ...         2.0             1.0   \n",
       "4                           NaN  ...         5.0             1.0   \n",
       "\n",
       "   QT_TUR_INF_PRE  QT_TUR_INF_INT  QT_TUR_INF_CRE_INT  QT_TUR_INF_PRE_INT  \\\n",
       "0             0.0             0.0                 0.0                 0.0   \n",
       "1            12.0             0.0                 0.0                 0.0   \n",
       "2             3.0             0.0                 0.0                 0.0   \n",
       "3             1.0             0.0                 0.0                 0.0   \n",
       "4             4.0             0.0                 0.0                 0.0   \n",
       "\n",
       "   QT_TUR_FUND_INT  QT_TUR_FUND_AI_INT  QT_TUR_FUND_AF_INT  QT_TUR_MED_INT  \n",
       "0              1.0                 1.0                 0.0             0.0  \n",
       "1              0.0                 0.0                 0.0             0.0  \n",
       "2              0.0                 0.0                 0.0             0.0  \n",
       "3              0.0                 0.0                 0.0             0.0  \n",
       "4              0.0                 0.0                 0.0             0.0  \n",
       "\n",
       "[5 rows x 239 columns]"
      ]
     },
     "execution_count": 20,
     "metadata": {},
     "output_type": "execute_result"
    }
   ],
   "source": [
    "df.filter(like=\"IN\").head()"
   ]
  },
  {
   "cell_type": "code",
   "execution_count": 21,
   "id": "ae16268ef2759128",
   "metadata": {
    "ExecuteTime": {
     "end_time": "2024-10-04T18:46:28.300804Z",
     "start_time": "2024-10-04T18:46:28.293953Z"
    }
   },
   "outputs": [
    {
     "name": "stdout",
     "output_type": "stream",
     "text": [
      "NU_ANO_CENSO\n",
      "NO_REGIAO\n",
      "CO_REGIAO\n",
      "NO_UF\n",
      "SG_UF\n",
      "CO_UF\n",
      "NO_MUNICIPIO\n",
      "CO_MUNICIPIO\n",
      "NO_REGIAO_GEOG_INTERM\n",
      "CO_REGIAO_GEOG_INTERM\n",
      "NO_REGIAO_GEOG_IMED\n",
      "CO_REGIAO_GEOG_IMED\n",
      "NO_MESORREGIAO\n",
      "CO_MESORREGIAO\n",
      "NO_MICRORREGIAO\n",
      "CO_MICRORREGIAO\n",
      "CO_DISTRITO\n",
      "NO_ENTIDADE\n",
      "CO_ENTIDADE\n",
      "TP_DEPENDENCIA\n",
      "TP_CATEGORIA_ESCOLA_PRIVADA\n",
      "TP_LOCALIZACAO\n",
      "TP_LOCALIZACAO_DIFERENCIADA\n",
      "DS_ENDERECO\n",
      "NU_ENDERECO\n",
      "DS_COMPLEMENTO\n",
      "NO_BAIRRO\n",
      "CO_CEP\n",
      "NU_DDD\n",
      "NU_TELEFONE\n",
      "TP_SITUACAO_FUNCIONAMENTO\n",
      "CO_ORGAO_REGIONAL\n",
      "DT_ANO_LETIVO_INICIO\n",
      "DT_ANO_LETIVO_TERMINO\n",
      "IN_VINCULO_SECRETARIA_EDUCACAO\n",
      "IN_VINCULO_SEGURANCA_PUBLICA\n",
      "IN_VINCULO_SECRETARIA_SAUDE\n",
      "IN_VINCULO_OUTRO_ORGAO\n",
      "IN_PODER_PUBLICO_PARCERIA\n",
      "TP_PODER_PUBLICO_PARCERIA\n",
      "IN_FORMA_CONT_TERMO_COLABORA\n",
      "IN_FORMA_CONT_TERMO_FOMENTO\n",
      "IN_FORMA_CONT_ACORDO_COOP\n",
      "IN_FORMA_CONT_PRESTACAO_SERV\n",
      "IN_FORMA_CONT_COOP_TEC_FIN\n",
      "IN_FORMA_CONT_CONSORCIO_PUB\n",
      "IN_FORMA_CONT_MU_TERMO_COLAB\n",
      "IN_FORMA_CONT_MU_TERMO_FOMENTO\n",
      "IN_FORMA_CONT_MU_ACORDO_COOP\n",
      "IN_FORMA_CONT_MU_PREST_SERV\n",
      "IN_FORMA_CONT_MU_COOP_TEC_FIN\n",
      "IN_FORMA_CONT_MU_CONSORCIO_PUB\n",
      "IN_FORMA_CONT_ES_TERMO_COLAB\n",
      "IN_FORMA_CONT_ES_TERMO_FOMENTO\n",
      "IN_FORMA_CONT_ES_ACORDO_COOP\n",
      "IN_FORMA_CONT_ES_PREST_SERV\n",
      "IN_FORMA_CONT_ES_COOP_TEC_FIN\n",
      "IN_FORMA_CONT_ES_CONSORCIO_PUB\n",
      "IN_MANT_ESCOLA_PRIVADA_EMP\n",
      "IN_MANT_ESCOLA_PRIVADA_ONG\n",
      "IN_MANT_ESCOLA_PRIVADA_OSCIP\n",
      "IN_MANT_ESCOLA_PRIV_ONG_OSCIP\n",
      "IN_MANT_ESCOLA_PRIVADA_SIND\n",
      "IN_MANT_ESCOLA_PRIVADA_SIST_S\n",
      "IN_MANT_ESCOLA_PRIVADA_S_FINS\n",
      "NU_CNPJ_ESCOLA_PRIVADA\n",
      "NU_CNPJ_MANTENEDORA\n",
      "TP_REGULAMENTACAO\n",
      "TP_RESPONSAVEL_REGULAMENTACAO\n",
      "CO_ESCOLA_SEDE_VINCULADA\n",
      "CO_IES_OFERTANTE\n",
      "IN_LOCAL_FUNC_PREDIO_ESCOLAR\n",
      "TP_OCUPACAO_PREDIO_ESCOLAR\n",
      "IN_LOCAL_FUNC_SOCIOEDUCATIVO\n",
      "IN_LOCAL_FUNC_UNID_PRISIONAL\n",
      "IN_LOCAL_FUNC_PRISIONAL_SOCIO\n",
      "IN_LOCAL_FUNC_GALPAO\n",
      "TP_OCUPACAO_GALPAO\n",
      "IN_LOCAL_FUNC_SALAS_OUTRA_ESC\n",
      "IN_LOCAL_FUNC_OUTROS\n",
      "IN_PREDIO_COMPARTILHADO\n",
      "IN_AGUA_POTAVEL\n",
      "IN_AGUA_REDE_PUBLICA\n",
      "IN_AGUA_POCO_ARTESIANO\n",
      "IN_AGUA_CACIMBA\n",
      "IN_AGUA_FONTE_RIO\n",
      "IN_AGUA_INEXISTENTE\n",
      "IN_ENERGIA_REDE_PUBLICA\n",
      "IN_ENERGIA_GERADOR_FOSSIL\n",
      "IN_ENERGIA_RENOVAVEL\n",
      "IN_ENERGIA_INEXISTENTE\n",
      "IN_ESGOTO_REDE_PUBLICA\n",
      "IN_ESGOTO_FOSSA_SEPTICA\n",
      "IN_ESGOTO_FOSSA_COMUM\n",
      "IN_ESGOTO_FOSSA\n",
      "IN_ESGOTO_INEXISTENTE\n",
      "IN_LIXO_SERVICO_COLETA\n",
      "IN_LIXO_QUEIMA\n",
      "IN_LIXO_ENTERRA\n",
      "IN_LIXO_DESTINO_FINAL_PUBLICO\n",
      "IN_LIXO_DESCARTA_OUTRA_AREA\n",
      "IN_TRATAMENTO_LIXO_SEPARACAO\n",
      "IN_TRATAMENTO_LIXO_REUTILIZA\n",
      "IN_TRATAMENTO_LIXO_RECICLAGEM\n",
      "IN_TRATAMENTO_LIXO_INEXISTENTE\n",
      "IN_ALMOXARIFADO\n",
      "IN_AREA_VERDE\n",
      "IN_AUDITORIO\n",
      "IN_BANHEIRO\n",
      "IN_BANHEIRO_EI\n",
      "IN_BANHEIRO_PNE\n",
      "IN_BANHEIRO_FUNCIONARIOS\n",
      "IN_BANHEIRO_CHUVEIRO\n",
      "IN_BIBLIOTECA\n",
      "IN_BIBLIOTECA_SALA_LEITURA\n",
      "IN_COZINHA\n",
      "IN_DESPENSA\n",
      "IN_DORMITORIO_ALUNO\n",
      "IN_DORMITORIO_PROFESSOR\n",
      "IN_LABORATORIO_CIENCIAS\n",
      "IN_LABORATORIO_INFORMATICA\n",
      "IN_LABORATORIO_EDUC_PROF\n",
      "IN_PATIO_COBERTO\n",
      "IN_PATIO_DESCOBERTO\n",
      "IN_PARQUE_INFANTIL\n",
      "IN_PISCINA\n",
      "IN_QUADRA_ESPORTES\n",
      "IN_QUADRA_ESPORTES_COBERTA\n",
      "IN_QUADRA_ESPORTES_DESCOBERTA\n",
      "IN_REFEITORIO\n",
      "IN_SALA_ATELIE_ARTES\n",
      "IN_SALA_MUSICA_CORAL\n",
      "IN_SALA_ESTUDIO_DANCA\n",
      "IN_SALA_MULTIUSO\n",
      "IN_SALA_ESTUDIO_GRAVACAO\n",
      "IN_SALA_OFICINAS_EDUC_PROF\n",
      "IN_SALA_DIRETORIA\n",
      "IN_SALA_LEITURA\n",
      "IN_SALA_PROFESSOR\n",
      "IN_SALA_REPOUSO_ALUNO\n",
      "IN_SECRETARIA\n",
      "IN_SALA_ATENDIMENTO_ESPECIAL\n",
      "IN_TERREIRAO\n",
      "IN_VIVEIRO\n",
      "IN_DEPENDENCIAS_OUTRAS\n",
      "IN_ACESSIBILIDADE_CORRIMAO\n",
      "IN_ACESSIBILIDADE_ELEVADOR\n",
      "IN_ACESSIBILIDADE_PISOS_TATEIS\n",
      "IN_ACESSIBILIDADE_VAO_LIVRE\n",
      "IN_ACESSIBILIDADE_RAMPAS\n",
      "IN_ACESSIBILIDADE_SINAL_SONORO\n",
      "IN_ACESSIBILIDADE_SINAL_TATIL\n",
      "IN_ACESSIBILIDADE_SINAL_VISUAL\n",
      "IN_ACESSIBILIDADE_INEXISTENTE\n",
      "QT_SALAS_UTILIZADAS_DENTRO\n",
      "QT_SALAS_UTILIZADAS_FORA\n",
      "QT_SALAS_UTILIZADAS\n",
      "QT_SALAS_UTILIZA_CLIMATIZADAS\n",
      "QT_SALAS_UTILIZADAS_ACESSIVEIS\n",
      "IN_EQUIP_PARABOLICA\n",
      "IN_COMPUTADOR\n",
      "IN_EQUIP_COPIADORA\n",
      "IN_EQUIP_IMPRESSORA\n",
      "IN_EQUIP_IMPRESSORA_MULT\n",
      "IN_EQUIP_SCANNER\n",
      "IN_EQUIP_NENHUM\n",
      "IN_EQUIP_DVD\n",
      "QT_EQUIP_DVD\n",
      "IN_EQUIP_SOM\n",
      "QT_EQUIP_SOM\n",
      "IN_EQUIP_TV\n",
      "QT_EQUIP_TV\n",
      "IN_EQUIP_LOUSA_DIGITAL\n",
      "QT_EQUIP_LOUSA_DIGITAL\n",
      "IN_EQUIP_MULTIMIDIA\n",
      "QT_EQUIP_MULTIMIDIA\n",
      "IN_DESKTOP_ALUNO\n",
      "QT_DESKTOP_ALUNO\n",
      "IN_COMP_PORTATIL_ALUNO\n",
      "QT_COMP_PORTATIL_ALUNO\n",
      "IN_TABLET_ALUNO\n",
      "QT_TABLET_ALUNO\n",
      "IN_INTERNET\n",
      "IN_INTERNET_ALUNOS\n",
      "IN_INTERNET_ADMINISTRATIVO\n",
      "IN_INTERNET_APRENDIZAGEM\n",
      "IN_INTERNET_COMUNIDADE\n",
      "IN_ACESSO_INTERNET_COMPUTADOR\n",
      "IN_ACES_INTERNET_DISP_PESSOAIS\n",
      "TP_REDE_LOCAL\n",
      "IN_BANDA_LARGA\n",
      "IN_PROF_ADMINISTRATIVOS\n",
      "QT_PROF_ADMINISTRATIVOS\n",
      "IN_PROF_SERVICOS_GERAIS\n",
      "QT_PROF_SERVICOS_GERAIS\n",
      "IN_PROF_BIBLIOTECARIO\n",
      "QT_PROF_BIBLIOTECARIO\n",
      "IN_PROF_SAUDE\n",
      "QT_PROF_SAUDE\n",
      "IN_PROF_COORDENADOR\n",
      "QT_PROF_COORDENADOR\n",
      "IN_PROF_FONAUDIOLOGO\n",
      "QT_PROF_FONAUDIOLOGO\n",
      "IN_PROF_NUTRICIONISTA\n",
      "QT_PROF_NUTRICIONISTA\n",
      "IN_PROF_PSICOLOGO\n",
      "QT_PROF_PSICOLOGO\n",
      "IN_PROF_ALIMENTACAO\n",
      "QT_PROF_ALIMENTACAO\n",
      "IN_PROF_PEDAGOGIA\n",
      "QT_PROF_PEDAGOGIA\n",
      "IN_PROF_SECRETARIO\n",
      "QT_PROF_SECRETARIO\n",
      "IN_PROF_SEGURANCA\n",
      "QT_PROF_SEGURANCA\n",
      "IN_PROF_MONITORES\n",
      "QT_PROF_MONITORES\n",
      "IN_PROF_GESTAO\n",
      "QT_PROF_GESTAO\n",
      "IN_PROF_ASSIST_SOCIAL\n",
      "QT_PROF_ASSIST_SOCIAL\n",
      "IN_PROF_TRAD_LIBRAS\n",
      "QT_PROF_TRAD_LIBRAS\n",
      "IN_ALIMENTACAO\n",
      "IN_MATERIAL_PED_MULTIMIDIA\n",
      "IN_MATERIAL_PED_INFANTIL\n",
      "IN_MATERIAL_PED_CIENTIFICO\n",
      "IN_MATERIAL_PED_DIFUSAO\n",
      "IN_MATERIAL_PED_MUSICAL\n",
      "IN_MATERIAL_PED_JOGOS\n",
      "IN_MATERIAL_PED_ARTISTICAS\n",
      "IN_MATERIAL_PED_PROFISSIONAL\n",
      "IN_MATERIAL_PED_DESPORTIVA\n",
      "IN_MATERIAL_PED_INDIGENA\n",
      "IN_MATERIAL_PED_ETNICO\n",
      "IN_MATERIAL_PED_CAMPO\n",
      "IN_MATERIAL_PED_BIL_SURDOS\n",
      "IN_MATERIAL_PED_NENHUM\n",
      "IN_EDUCACAO_INDIGENA\n",
      "TP_INDIGENA_LINGUA\n",
      "CO_LINGUA_INDIGENA_1\n",
      "CO_LINGUA_INDIGENA_2\n",
      "CO_LINGUA_INDIGENA_3\n",
      "IN_EXAME_SELECAO\n",
      "IN_RESERVA_PPI\n",
      "IN_RESERVA_RENDA\n",
      "IN_RESERVA_PUBLICA\n",
      "IN_RESERVA_PCD\n",
      "IN_RESERVA_OUTROS\n",
      "IN_RESERVA_NENHUMA\n",
      "IN_REDES_SOCIAIS\n",
      "IN_ESPACO_ATIVIDADE\n",
      "IN_ESPACO_EQUIPAMENTO\n",
      "IN_ORGAO_ASS_PAIS\n",
      "IN_ORGAO_ASS_PAIS_MESTRES\n",
      "IN_ORGAO_CONSELHO_ESCOLAR\n",
      "IN_ORGAO_GREMIO_ESTUDANTIL\n",
      "IN_ORGAO_OUTROS\n",
      "IN_ORGAO_NENHUM\n",
      "TP_PROPOSTA_PEDAGOGICA\n",
      "TP_AEE\n",
      "TP_ATIVIDADE_COMPLEMENTAR\n",
      "IN_MEDIACAO_PRESENCIAL\n",
      "IN_MEDIACAO_SEMIPRESENCIAL\n",
      "IN_MEDIACAO_EAD\n",
      "IN_REGULAR\n",
      "IN_DIURNO\n",
      "IN_NOTURNO\n",
      "IN_EAD\n",
      "IN_ESCOLARIZACAO\n",
      "IN_INF\n",
      "IN_INF_CRE\n",
      "IN_INF_PRE\n",
      "IN_FUND\n",
      "IN_FUND_AI\n",
      "IN_FUND_AF\n",
      "IN_MED\n",
      "IN_PROF\n",
      "IN_PROF_TEC\n",
      "IN_EJA\n",
      "IN_EJA_FUND\n",
      "IN_EJA_MED\n",
      "IN_ESP\n",
      "IN_ESP_CC\n",
      "IN_ESP_CE\n",
      "QT_MAT_BAS\n",
      "QT_MAT_INF\n",
      "QT_MAT_INF_CRE\n",
      "QT_MAT_INF_PRE\n",
      "QT_MAT_FUND\n",
      "QT_MAT_FUND_AI\n",
      "QT_MAT_FUND_AI_1\n",
      "QT_MAT_FUND_AI_2\n",
      "QT_MAT_FUND_AI_3\n",
      "QT_MAT_FUND_AI_4\n",
      "QT_MAT_FUND_AI_5\n",
      "QT_MAT_FUND_AF\n",
      "QT_MAT_FUND_AF_6\n",
      "QT_MAT_FUND_AF_7\n",
      "QT_MAT_FUND_AF_8\n",
      "QT_MAT_FUND_AF_9\n",
      "QT_MAT_MED\n",
      "QT_MAT_MED_PROP\n",
      "QT_MAT_MED_PROP_1\n",
      "QT_MAT_MED_PROP_2\n",
      "QT_MAT_MED_PROP_3\n",
      "QT_MAT_MED_PROP_4\n",
      "QT_MAT_MED_PROP_NS\n",
      "QT_MAT_MED_CT\n",
      "QT_MAT_MED_CT_1\n",
      "QT_MAT_MED_CT_2\n",
      "QT_MAT_MED_CT_3\n",
      "QT_MAT_MED_CT_4\n",
      "QT_MAT_MED_CT_NS\n",
      "QT_MAT_MED_NM\n",
      "QT_MAT_MED_NM_1\n",
      "QT_MAT_MED_NM_2\n",
      "QT_MAT_MED_NM_3\n",
      "QT_MAT_MED_NM_4\n",
      "QT_MAT_PROF\n",
      "QT_MAT_PROF_TEC\n",
      "QT_MAT_PROF_TEC_CONC\n",
      "QT_MAT_PROF_TEC_SUBS\n",
      "QT_MAT_PROF_FIC_CONC\n",
      "QT_MAT_EJA\n",
      "QT_MAT_EJA_FUND\n",
      "QT_MAT_EJA_FUND_AI\n",
      "QT_MAT_EJA_FUND_AF\n",
      "QT_MAT_EJA_FUND_FIC\n",
      "QT_MAT_EJA_MED\n",
      "QT_MAT_EJA_MED_NPROF\n",
      "QT_MAT_EJA_MED_FIC\n",
      "QT_MAT_EJA_MED_TEC\n",
      "QT_MAT_ESP\n",
      "QT_MAT_ESP_CC\n",
      "QT_MAT_ESP_CE\n",
      "QT_MAT_BAS_FEM\n",
      "QT_MAT_BAS_MASC\n",
      "QT_MAT_BAS_ND\n",
      "QT_MAT_BAS_BRANCA\n",
      "QT_MAT_BAS_PRETA\n",
      "QT_MAT_BAS_PARDA\n",
      "QT_MAT_BAS_AMARELA\n",
      "QT_MAT_BAS_INDIGENA\n",
      "QT_MAT_BAS_0_3\n",
      "QT_MAT_BAS_4_5\n",
      "QT_MAT_BAS_6_10\n",
      "QT_MAT_BAS_11_14\n",
      "QT_MAT_BAS_15_17\n",
      "QT_MAT_BAS_18_MAIS\n",
      "QT_MAT_BAS_D\n",
      "QT_MAT_BAS_N\n",
      "QT_MAT_BAS_EAD\n",
      "QT_MAT_INF_INT\n",
      "QT_MAT_INF_CRE_INT\n",
      "QT_MAT_INF_PRE_INT\n",
      "QT_MAT_FUND_INT\n",
      "QT_MAT_FUND_AI_INT\n",
      "QT_MAT_FUND_AF_INT\n",
      "QT_MAT_MED_INT\n",
      "QT_MAT_ZR_URB\n",
      "QT_MAT_ZR_RUR\n",
      "QT_MAT_ZR_NA\n",
      "QT_TRANSP_PUBLICO\n",
      "QT_TRANSP_RESP_EST\n",
      "QT_TRANSP_RESP_MUN\n",
      "QT_DOC_BAS\n",
      "QT_DOC_INF\n",
      "QT_DOC_INF_CRE\n",
      "QT_DOC_INF_PRE\n",
      "QT_DOC_FUND\n",
      "QT_DOC_FUND_AI\n",
      "QT_DOC_FUND_AF\n",
      "QT_DOC_MED\n",
      "QT_DOC_PROF\n",
      "QT_DOC_PROF_TEC\n",
      "QT_DOC_EJA\n",
      "QT_DOC_EJA_FUND\n",
      "QT_DOC_EJA_MED\n",
      "QT_DOC_ESP\n",
      "QT_DOC_ESP_CC\n",
      "QT_DOC_ESP_CE\n",
      "QT_TUR_BAS\n",
      "QT_TUR_INF\n",
      "QT_TUR_INF_CRE\n",
      "QT_TUR_INF_PRE\n",
      "QT_TUR_FUND\n",
      "QT_TUR_FUND_AI\n",
      "QT_TUR_FUND_AF\n",
      "QT_TUR_MED\n",
      "QT_TUR_PROF\n",
      "QT_TUR_PROF_TEC\n",
      "QT_TUR_EJA\n",
      "QT_TUR_EJA_FUND\n",
      "QT_TUR_EJA_MED\n",
      "QT_TUR_ESP\n",
      "QT_TUR_ESP_CC\n",
      "QT_TUR_ESP_CE\n",
      "QT_TUR_BAS_D\n",
      "QT_TUR_BAS_N\n",
      "QT_TUR_BAS_EAD\n",
      "QT_TUR_INF_INT\n",
      "QT_TUR_INF_CRE_INT\n",
      "QT_TUR_INF_PRE_INT\n",
      "QT_TUR_FUND_INT\n",
      "QT_TUR_FUND_AI_INT\n",
      "QT_TUR_FUND_AF_INT\n",
      "QT_TUR_MED_INT\n"
     ]
    }
   ],
   "source": [
    "for col in df.columns:\n",
    "    print(col)"
   ]
  },
  {
   "cell_type": "code",
   "execution_count": 28,
   "id": "1192ce26075ba749",
   "metadata": {
    "ExecuteTime": {
     "end_time": "2024-10-04T18:49:53.902837Z",
     "start_time": "2024-10-04T18:49:53.837627Z"
    }
   },
   "outputs": [
    {
     "data": {
      "text/html": [
       "<div>\n",
       "<style scoped>\n",
       "    .dataframe tbody tr th:only-of-type {\n",
       "        vertical-align: middle;\n",
       "    }\n",
       "\n",
       "    .dataframe tbody tr th {\n",
       "        vertical-align: top;\n",
       "    }\n",
       "\n",
       "    .dataframe thead th {\n",
       "        text-align: right;\n",
       "    }\n",
       "</style>\n",
       "<table border=\"1\" class=\"dataframe\">\n",
       "  <thead>\n",
       "    <tr style=\"text-align: right;\">\n",
       "      <th></th>\n",
       "      <th>IN_LABORATORIO_INFORMATICA</th>\n",
       "      <th>QT_SALAS_UTILIZA_CLIMATIZADAS</th>\n",
       "      <th>IN_MATERIAL_PED_MULTIMIDIA</th>\n",
       "      <th>IN_MATERIAL_PED_INFANTIL</th>\n",
       "      <th>IN_MATERIAL_PED_CIENTIFICO</th>\n",
       "      <th>IN_MATERIAL_PED_DIFUSAO</th>\n",
       "      <th>IN_MATERIAL_PED_MUSICAL</th>\n",
       "      <th>IN_MATERIAL_PED_JOGOS</th>\n",
       "      <th>IN_MATERIAL_PED_ARTISTICAS</th>\n",
       "      <th>IN_MATERIAL_PED_PROFISSIONAL</th>\n",
       "      <th>...</th>\n",
       "      <th>QT_MAT_INF_INT</th>\n",
       "      <th>QT_MAT_INF_CRE_INT</th>\n",
       "      <th>QT_MAT_INF_PRE_INT</th>\n",
       "      <th>QT_MAT_FUND_INT</th>\n",
       "      <th>QT_MAT_FUND_AI_INT</th>\n",
       "      <th>QT_MAT_FUND_AF_INT</th>\n",
       "      <th>QT_MAT_MED_INT</th>\n",
       "      <th>QT_MAT_ZR_URB</th>\n",
       "      <th>QT_MAT_ZR_RUR</th>\n",
       "      <th>QT_MAT_ZR_NA</th>\n",
       "    </tr>\n",
       "  </thead>\n",
       "  <tbody>\n",
       "    <tr>\n",
       "      <th>0</th>\n",
       "      <td>1.0</td>\n",
       "      <td>7.0</td>\n",
       "      <td>1.0</td>\n",
       "      <td>0.0</td>\n",
       "      <td>0.0</td>\n",
       "      <td>0.0</td>\n",
       "      <td>0.0</td>\n",
       "      <td>1.0</td>\n",
       "      <td>1.0</td>\n",
       "      <td>0.0</td>\n",
       "      <td>...</td>\n",
       "      <td>0.0</td>\n",
       "      <td>0.0</td>\n",
       "      <td>0.0</td>\n",
       "      <td>2.0</td>\n",
       "      <td>2.0</td>\n",
       "      <td>0.0</td>\n",
       "      <td>0.0</td>\n",
       "      <td>69.0</td>\n",
       "      <td>0.0</td>\n",
       "      <td>0.0</td>\n",
       "    </tr>\n",
       "    <tr>\n",
       "      <th>1</th>\n",
       "      <td>0.0</td>\n",
       "      <td>6.0</td>\n",
       "      <td>1.0</td>\n",
       "      <td>1.0</td>\n",
       "      <td>0.0</td>\n",
       "      <td>1.0</td>\n",
       "      <td>0.0</td>\n",
       "      <td>1.0</td>\n",
       "      <td>1.0</td>\n",
       "      <td>0.0</td>\n",
       "      <td>...</td>\n",
       "      <td>18.0</td>\n",
       "      <td>0.0</td>\n",
       "      <td>18.0</td>\n",
       "      <td>0.0</td>\n",
       "      <td>0.0</td>\n",
       "      <td>0.0</td>\n",
       "      <td>0.0</td>\n",
       "      <td>224.0</td>\n",
       "      <td>1.0</td>\n",
       "      <td>0.0</td>\n",
       "    </tr>\n",
       "    <tr>\n",
       "      <th>2</th>\n",
       "      <td>1.0</td>\n",
       "      <td>42.0</td>\n",
       "      <td>1.0</td>\n",
       "      <td>1.0</td>\n",
       "      <td>1.0</td>\n",
       "      <td>1.0</td>\n",
       "      <td>0.0</td>\n",
       "      <td>1.0</td>\n",
       "      <td>1.0</td>\n",
       "      <td>0.0</td>\n",
       "      <td>...</td>\n",
       "      <td>0.0</td>\n",
       "      <td>0.0</td>\n",
       "      <td>0.0</td>\n",
       "      <td>0.0</td>\n",
       "      <td>0.0</td>\n",
       "      <td>0.0</td>\n",
       "      <td>0.0</td>\n",
       "      <td>1227.0</td>\n",
       "      <td>2.0</td>\n",
       "      <td>0.0</td>\n",
       "    </tr>\n",
       "    <tr>\n",
       "      <th>3</th>\n",
       "      <td>0.0</td>\n",
       "      <td>0.0</td>\n",
       "      <td>0.0</td>\n",
       "      <td>1.0</td>\n",
       "      <td>0.0</td>\n",
       "      <td>0.0</td>\n",
       "      <td>0.0</td>\n",
       "      <td>1.0</td>\n",
       "      <td>0.0</td>\n",
       "      <td>0.0</td>\n",
       "      <td>...</td>\n",
       "      <td>0.0</td>\n",
       "      <td>0.0</td>\n",
       "      <td>0.0</td>\n",
       "      <td>0.0</td>\n",
       "      <td>0.0</td>\n",
       "      <td>0.0</td>\n",
       "      <td>0.0</td>\n",
       "      <td>42.0</td>\n",
       "      <td>2.0</td>\n",
       "      <td>0.0</td>\n",
       "    </tr>\n",
       "    <tr>\n",
       "      <th>4</th>\n",
       "      <td>0.0</td>\n",
       "      <td>15.0</td>\n",
       "      <td>1.0</td>\n",
       "      <td>1.0</td>\n",
       "      <td>0.0</td>\n",
       "      <td>1.0</td>\n",
       "      <td>0.0</td>\n",
       "      <td>1.0</td>\n",
       "      <td>1.0</td>\n",
       "      <td>0.0</td>\n",
       "      <td>...</td>\n",
       "      <td>0.0</td>\n",
       "      <td>0.0</td>\n",
       "      <td>0.0</td>\n",
       "      <td>1.0</td>\n",
       "      <td>0.0</td>\n",
       "      <td>1.0</td>\n",
       "      <td>0.0</td>\n",
       "      <td>635.0</td>\n",
       "      <td>5.0</td>\n",
       "      <td>0.0</td>\n",
       "    </tr>\n",
       "  </tbody>\n",
       "</table>\n",
       "<p>5 rows × 94 columns</p>\n",
       "</div>"
      ],
      "text/plain": [
       "   IN_LABORATORIO_INFORMATICA  QT_SALAS_UTILIZA_CLIMATIZADAS  \\\n",
       "0                         1.0                            7.0   \n",
       "1                         0.0                            6.0   \n",
       "2                         1.0                           42.0   \n",
       "3                         0.0                            0.0   \n",
       "4                         0.0                           15.0   \n",
       "\n",
       "   IN_MATERIAL_PED_MULTIMIDIA  IN_MATERIAL_PED_INFANTIL  \\\n",
       "0                         1.0                       0.0   \n",
       "1                         1.0                       1.0   \n",
       "2                         1.0                       1.0   \n",
       "3                         0.0                       1.0   \n",
       "4                         1.0                       1.0   \n",
       "\n",
       "   IN_MATERIAL_PED_CIENTIFICO  IN_MATERIAL_PED_DIFUSAO  \\\n",
       "0                         0.0                      0.0   \n",
       "1                         0.0                      1.0   \n",
       "2                         1.0                      1.0   \n",
       "3                         0.0                      0.0   \n",
       "4                         0.0                      1.0   \n",
       "\n",
       "   IN_MATERIAL_PED_MUSICAL  IN_MATERIAL_PED_JOGOS  IN_MATERIAL_PED_ARTISTICAS  \\\n",
       "0                      0.0                    1.0                         1.0   \n",
       "1                      0.0                    1.0                         1.0   \n",
       "2                      0.0                    1.0                         1.0   \n",
       "3                      0.0                    1.0                         0.0   \n",
       "4                      0.0                    1.0                         1.0   \n",
       "\n",
       "   IN_MATERIAL_PED_PROFISSIONAL  ...  QT_MAT_INF_INT  QT_MAT_INF_CRE_INT  \\\n",
       "0                           0.0  ...             0.0                 0.0   \n",
       "1                           0.0  ...            18.0                 0.0   \n",
       "2                           0.0  ...             0.0                 0.0   \n",
       "3                           0.0  ...             0.0                 0.0   \n",
       "4                           0.0  ...             0.0                 0.0   \n",
       "\n",
       "   QT_MAT_INF_PRE_INT  QT_MAT_FUND_INT  QT_MAT_FUND_AI_INT  \\\n",
       "0                 0.0              2.0                 2.0   \n",
       "1                18.0              0.0                 0.0   \n",
       "2                 0.0              0.0                 0.0   \n",
       "3                 0.0              0.0                 0.0   \n",
       "4                 0.0              1.0                 0.0   \n",
       "\n",
       "   QT_MAT_FUND_AF_INT  QT_MAT_MED_INT  QT_MAT_ZR_URB  QT_MAT_ZR_RUR  \\\n",
       "0                 0.0             0.0           69.0            0.0   \n",
       "1                 0.0             0.0          224.0            1.0   \n",
       "2                 0.0             0.0         1227.0            2.0   \n",
       "3                 0.0             0.0           42.0            2.0   \n",
       "4                 1.0             0.0          635.0            5.0   \n",
       "\n",
       "   QT_MAT_ZR_NA  \n",
       "0           0.0  \n",
       "1           0.0  \n",
       "2           0.0  \n",
       "3           0.0  \n",
       "4           0.0  \n",
       "\n",
       "[5 rows x 94 columns]"
      ]
     },
     "execution_count": 28,
     "metadata": {},
     "output_type": "execute_result"
    }
   ],
   "source": [
    "df.filter(like='MAT').head()\n",
    "# QT_MAT_BAS para serie temporal, visao anual\n",
    "# cluster: mais variaveis por \n",
    "# "
   ]
  }
 ],
 "metadata": {
  "kernelspec": {
   "display_name": "Python 3 (ipykernel)",
   "language": "python",
   "name": "python3"
  },
  "language_info": {
   "codemirror_mode": {
    "name": "ipython",
    "version": 3
   },
   "file_extension": ".py",
   "mimetype": "text/x-python",
   "name": "python",
   "nbconvert_exporter": "python",
   "pygments_lexer": "ipython3",
   "version": "3.11.8"
  }
 },
 "nbformat": 4,
 "nbformat_minor": 5
}
